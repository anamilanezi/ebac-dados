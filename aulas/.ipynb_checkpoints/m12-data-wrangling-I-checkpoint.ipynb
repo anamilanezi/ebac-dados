{
 "cells": [
  {
   "cell_type": "markdown",
   "metadata": {
    "id": "KJqp9AANOCtf"
   },
   "source": [
    "<img src=\"https://raw.githubusercontent.com/andre-marcos-perez/ebac-course-utils/main/media/logo/newebac_logo_black_half.png\" alt=\"ebac-logo\">\n",
    "\n",
    "---\n",
    "\n",
    "# **Módulo** | Análise de Dados: Data Wrangling I\n",
    "Caderno de **Aula**<br> \n",
    "Professor [André Perez](https://www.linkedin.com/in/andremarcosperez/)\n",
    "\n",
    "---"
   ]
  },
  {
   "cell_type": "markdown",
   "metadata": {
    "id": "d9jDtUbDOE1-"
   },
   "source": [
    "# **Tópicos**\n",
    "\n",
    "<ol type=\"1\">\n",
    "  <li>DataFrame Pandas;</li>\n",
    "  <li>Selecão e Filtros;</li>\n",
    "  <li>Inserção, Deleção e Atualização.</li>\n",
    "</ol>"
   ]
  },
  {
   "cell_type": "markdown",
   "metadata": {
    "id": "SmoHgt-lwkpD"
   },
   "source": [
    "---"
   ]
  },
  {
   "cell_type": "markdown",
   "metadata": {
    "id": "GABI6OW8OfQ2"
   },
   "source": [
    "# **Aulas**"
   ]
  },
  {
   "cell_type": "markdown",
   "metadata": {
    "id": "eJ283bopLqLU"
   },
   "source": [
    "## 0\\. Estruturas de dados"
   ]
  },
  {
   "cell_type": "markdown",
   "metadata": {
    "id": "0gmSAOdOLqLU"
   },
   "source": [
    "*   **Não estruturado**: texto, imagem, aúdio, etc.\n",
    "*   **Semi estruturado**: html, json, etc.\n",
    "*   <font color='red'>**Estruturado**</font>: tabelas, planilhas, etc.\n",
    "\n"
   ]
  },
  {
   "cell_type": "markdown",
   "metadata": {
    "id": "muD1vxozykSC"
   },
   "source": [
    "## 1\\. DataFrame Pandas"
   ]
  },
  {
   "cell_type": "markdown",
   "metadata": {
    "id": "5a3_syBIP6yO"
   },
   "source": [
    "### **1.1. Pacote Pandas** "
   ]
  },
  {
   "cell_type": "markdown",
   "metadata": {
    "id": "NglCEvJDmqkw"
   },
   "source": [
    "Pacote Python para manipulação de dados (talvez o mais utilizado). A documentação pode ser encontrada neste [link](https://pandas.pydata.org/docs/). A abstração base do pandas é o DataFrame, uma estrutura de dados Python de duas dimensões utilizado para representar tabelas."
   ]
  },
  {
   "cell_type": "markdown",
   "metadata": {
    "id": "EP1UwLRR5_qg"
   },
   "source": [
    "**Exemplo**: Criar um DataFrame Pandas a partir de um dicionário Python."
   ]
  },
  {
   "cell_type": "code",
   "execution_count": null,
   "metadata": {
    "id": "HJ48vl_aTEge"
   },
   "outputs": [],
   "source": [
    "transacoes = dict(\n",
    "    id=[571, 572, 573], \n",
    "    data=['19-01-2021', '19-01-2021', '23-01-2021'], \n",
    "    valor=[371.30, 57.19, 101.21], \n",
    "    categoria=['supermercado', 'farmacia', 'outros']\n",
    ")"
   ]
  },
  {
   "cell_type": "code",
   "execution_count": null,
   "metadata": {
    "id": "23fdzehj6JV9"
   },
   "outputs": [],
   "source": [
    "import pandas as pd\n",
    "\n",
    "transacoes_df = pd.DataFrame(transacoes)"
   ]
  },
  {
   "cell_type": "code",
   "execution_count": null,
   "metadata": {
    "id": "gX5RBXW2X7a_"
   },
   "outputs": [],
   "source": [
    "transacoes_df"
   ]
  },
  {
   "cell_type": "code",
   "execution_count": null,
   "metadata": {
    "id": "Zt_vgSKP1DvO"
   },
   "outputs": [],
   "source": [
    "type(transacoes_df)"
   ]
  },
  {
   "cell_type": "markdown",
   "metadata": {
    "id": "9nk_I8UBXvR1"
   },
   "source": [
    "*   Atributos"
   ]
  },
  {
   "cell_type": "code",
   "execution_count": null,
   "metadata": {
    "id": "93vD-4Lk6ggW"
   },
   "outputs": [],
   "source": [
    "transacoes_df.columns"
   ]
  },
  {
   "cell_type": "code",
   "execution_count": null,
   "metadata": {
    "id": "wKoZZi1O6e9K"
   },
   "outputs": [],
   "source": [
    "transacoes_df.dtypes"
   ]
  },
  {
   "cell_type": "code",
   "execution_count": null,
   "metadata": {
    "id": "MnmheK4RXIbP"
   },
   "outputs": [],
   "source": [
    "transacoes_df.index"
   ]
  },
  {
   "cell_type": "code",
   "execution_count": null,
   "metadata": {
    "id": "z80OUyVzYvaJ"
   },
   "outputs": [],
   "source": [
    "transacoes_df.shape"
   ]
  },
  {
   "cell_type": "markdown",
   "metadata": {
    "id": "y2x2KF01Xp5a"
   },
   "source": [
    "*   Métodos"
   ]
  },
  {
   "cell_type": "code",
   "execution_count": null,
   "metadata": {
    "id": "Ahx_iHWH6ZxS"
   },
   "outputs": [],
   "source": [
    "transacoes_df.head(n=1)"
   ]
  },
  {
   "cell_type": "code",
   "execution_count": null,
   "metadata": {
    "id": "T8WvBj6rW1fg"
   },
   "outputs": [],
   "source": [
    "transacoes_df.tail()"
   ]
  },
  {
   "cell_type": "code",
   "execution_count": null,
   "metadata": {
    "id": "i5OFaXOA6ce7"
   },
   "outputs": [],
   "source": [
    "transacoes_df.info()"
   ]
  },
  {
   "cell_type": "code",
   "execution_count": null,
   "metadata": {
    "id": "OCO1dRpCHR7v"
   },
   "outputs": [],
   "source": [
    "transacoes_df[['id', 'valor']].describe().T # colunas numéricas"
   ]
  },
  {
   "cell_type": "code",
   "execution_count": null,
   "metadata": {
    "id": "dqwtAmLNHZmz"
   },
   "outputs": [],
   "source": [
    "transacoes_df[['data', 'categoria']].describe().T # colunas categóricas"
   ]
  },
  {
   "cell_type": "markdown",
   "metadata": {
    "id": "eBpN50Xn692K"
   },
   "source": [
    "**Exemplo**: Criar um DataFrame Pandas a partir de um arquivo csv."
   ]
  },
  {
   "cell_type": "code",
   "execution_count": null,
   "metadata": {
    "id": "cbCLt_-N7TRg"
   },
   "outputs": [],
   "source": [
    "%%writefile github.csv\n",
    "ranking;project;language;stars;stars_today;forks\n",
    "1;plow;go;1304;574;38\n",
    "2;n8n;typescript;15668;280;1370\n",
    "3;slides;go;3218;265;80\n",
    "4;defi-developer-road-map;;636;247;49\n",
    "5;pytorch-image-models;python;11065;101;1646\n",
    "6;javascript-algorithms;javascript;110768;248;18331\n",
    "7;paddleclas;python;1429;283;323\n",
    "8;reddit_sentiment_trader;python;369;71;60\n",
    "9;augly;python;2849;393;99\n",
    "10;self-taught-guide-to-cloud-computing;;863;179;84"
   ]
  },
  {
   "cell_type": "code",
   "execution_count": null,
   "metadata": {
    "id": "75bCYCq79V7Y"
   },
   "outputs": [],
   "source": [
    "import pandas as pd\n",
    "\n",
    "github_df = pd.read_csv('github.csv', sep=';')"
   ]
  },
  {
   "cell_type": "code",
   "execution_count": null,
   "metadata": {
    "id": "64zzaltGaAPj"
   },
   "outputs": [],
   "source": [
    "github_df"
   ]
  },
  {
   "cell_type": "code",
   "execution_count": null,
   "metadata": {
    "id": "Epc-QGsg1Jap"
   },
   "outputs": [],
   "source": [
    "type(github_df)"
   ]
  },
  {
   "cell_type": "markdown",
   "metadata": {
    "id": "KG4Jgd1baAP-"
   },
   "source": [
    "*   Atributos"
   ]
  },
  {
   "cell_type": "code",
   "execution_count": null,
   "metadata": {
    "id": "SBgGJyoEaAP-"
   },
   "outputs": [],
   "source": [
    "github_df.columns"
   ]
  },
  {
   "cell_type": "code",
   "execution_count": null,
   "metadata": {
    "id": "NRnba9YSaAP-"
   },
   "outputs": [],
   "source": [
    "github_df.dtypes"
   ]
  },
  {
   "cell_type": "code",
   "execution_count": null,
   "metadata": {
    "id": "JWx30jKHaAP-"
   },
   "outputs": [],
   "source": [
    "github_df.index"
   ]
  },
  {
   "cell_type": "code",
   "execution_count": null,
   "metadata": {
    "id": "qo7zUrNXaAP_"
   },
   "outputs": [],
   "source": [
    "github_df.shape"
   ]
  },
  {
   "cell_type": "markdown",
   "metadata": {
    "id": "hQSszBaeaAP_"
   },
   "source": [
    "*   Métodos"
   ]
  },
  {
   "cell_type": "code",
   "execution_count": null,
   "metadata": {
    "id": "IkGdt9AeaAP_"
   },
   "outputs": [],
   "source": [
    "github_df.head()"
   ]
  },
  {
   "cell_type": "code",
   "execution_count": null,
   "metadata": {
    "id": "bNDEvGIBaAP_"
   },
   "outputs": [],
   "source": [
    "github_df.tail()"
   ]
  },
  {
   "cell_type": "code",
   "execution_count": null,
   "metadata": {
    "id": "IPOpuy5caAQA"
   },
   "outputs": [],
   "source": [
    "github_df.info()"
   ]
  },
  {
   "cell_type": "code",
   "execution_count": null,
   "metadata": {
    "id": "COSsUPiuG0LX"
   },
   "outputs": [],
   "source": [
    "github_df[['project', 'language']].describe().T # colunas categóricas"
   ]
  },
  {
   "cell_type": "code",
   "execution_count": null,
   "metadata": {
    "id": "da_FFYmvGk02"
   },
   "outputs": [],
   "source": [
    "github_df[['ranking', 'stars', 'stars_today', 'forks']].describe().T # colunas numéricas"
   ]
  },
  {
   "cell_type": "markdown",
   "metadata": {
    "id": "ymoAXSbFEcvt"
   },
   "source": [
    "### **1.2. Anatomia de um DataFrame** "
   ]
  },
  {
   "cell_type": "markdown",
   "metadata": {
    "id": "fBx76tlzEmaQ"
   },
   "source": [
    "*   **Série**: `Coluna` de um DataFrame;\n",
    "*   **Índice**: Indentificador de uma `linha` de um DataFrame."
   ]
  },
  {
   "cell_type": "code",
   "execution_count": null,
   "metadata": {
    "id": "oxYkPTvJE6Ug"
   },
   "outputs": [],
   "source": [
    "github_df"
   ]
  },
  {
   "cell_type": "markdown",
   "metadata": {
    "id": "4rRCvy_UURrM"
   },
   "source": [
    "## 2\\. Seleção e Filtros"
   ]
  },
  {
   "cell_type": "markdown",
   "metadata": {
    "id": "78RHF81A3tat"
   },
   "source": [
    "### **2.1. Série** "
   ]
  },
  {
   "cell_type": "markdown",
   "metadata": {
    "id": "bV_cw2IibzL8"
   },
   "source": [
    "Uma **série** é uma **coluna** de um **dataframe**. Para selecionar uma coluna utilizamos a seguinte notação (similiar a indexação de listas Python):\n",
    "\n",
    "```python\n",
    "serie = dataframe['<nome-da-coluna>']\n",
    "```\n",
    "\n",
    "**Nota**: Repare no uso das chaves simples `[ ]`."
   ]
  },
  {
   "cell_type": "markdown",
   "metadata": {
    "id": "Lo70QSOY6Xm0"
   },
   "source": [
    "*   **Exemplo**: Coluna linguagem de programação do dataframe `github_df`:"
   ]
  },
  {
   "cell_type": "code",
   "execution_count": null,
   "metadata": {
    "id": "0E_qlrvtayge"
   },
   "outputs": [],
   "source": [
    "linguagem_serie = github_df['language']"
   ]
  },
  {
   "cell_type": "code",
   "execution_count": null,
   "metadata": {
    "id": "jUGCDKX3001T"
   },
   "outputs": [],
   "source": [
    "linguagem_serie"
   ]
  },
  {
   "cell_type": "code",
   "execution_count": null,
   "metadata": {
    "id": "tBL9JNNJH5-X"
   },
   "outputs": [],
   "source": [
    "type(linguagem_serie)"
   ]
  },
  {
   "cell_type": "markdown",
   "metadata": {
    "id": "hsEYdMqZ-12v"
   },
   "source": [
    "#### 2.1.1 Seleção "
   ]
  },
  {
   "cell_type": "markdown",
   "metadata": {
    "id": "ZQ-RIHUl8I9V"
   },
   "source": [
    "*   **Exemplo**: Indexação simples com método `loc` (similar a lista Python):"
   ]
  },
  {
   "cell_type": "code",
   "execution_count": null,
   "metadata": {
    "id": "cyzctK3f2AB7"
   },
   "outputs": [],
   "source": [
    "top_1_linguagem = linguagem_serie.loc[0]"
   ]
  },
  {
   "cell_type": "code",
   "execution_count": null,
   "metadata": {
    "id": "1raP2AssItoH"
   },
   "outputs": [],
   "source": [
    "top_1_linguagem"
   ]
  },
  {
   "cell_type": "code",
   "execution_count": null,
   "metadata": {
    "id": "yuQKYgwoIxqK"
   },
   "outputs": [],
   "source": [
    "type(top_1_linguagem)"
   ]
  },
  {
   "cell_type": "markdown",
   "metadata": {
    "id": "EwG7rEpxASE4"
   },
   "source": [
    "*   **Exemplo**: Fatiamento ou *slicing* com método `loc` (similar a lista Python):"
   ]
  },
  {
   "cell_type": "code",
   "execution_count": null,
   "metadata": {
    "id": "u22eOpJJ3Sa_"
   },
   "outputs": [],
   "source": [
    "top_5_linguagem = linguagem_serie.loc[0:5]"
   ]
  },
  {
   "cell_type": "code",
   "execution_count": null,
   "metadata": {
    "id": "MHVFQycVI0bw"
   },
   "outputs": [],
   "source": [
    "top_5_linguagem"
   ]
  },
  {
   "cell_type": "code",
   "execution_count": null,
   "metadata": {
    "id": "Py31PNbGI00p"
   },
   "outputs": [],
   "source": [
    "type(top_5_linguagem)"
   ]
  },
  {
   "cell_type": "markdown",
   "metadata": {
    "id": "c1w3aPRb_zyY"
   },
   "source": [
    "#### 2.1.2 Filtros "
   ]
  },
  {
   "cell_type": "markdown",
   "metadata": {
    "id": "JpwLeL7zAakW"
   },
   "source": [
    "*   **Exemplo**: Filtro funcional:"
   ]
  },
  {
   "cell_type": "code",
   "execution_count": null,
   "metadata": {
    "id": "_WS0rxAZCmU-"
   },
   "outputs": [],
   "source": [
    "linguagem_serie[lambda linguagem: linguagem == 'python']"
   ]
  },
  {
   "cell_type": "markdown",
   "metadata": {
    "id": "73n8P5ShC38f"
   },
   "source": [
    "*   **Exemplo**: Filtro funcional com novos índices:"
   ]
  },
  {
   "cell_type": "code",
   "execution_count": null,
   "metadata": {
    "id": "d4TBy_4_B2uU"
   },
   "outputs": [],
   "source": [
    "linguagem_serie[lambda linguagem: linguagem == 'python'].reset_index(drop=True)"
   ]
  },
  {
   "cell_type": "markdown",
   "metadata": {
    "id": "fzU5v17l8kHf"
   },
   "source": [
    "### **2.2. DataFrame** "
   ]
  },
  {
   "cell_type": "markdown",
   "metadata": {
    "id": "XC2gIbHs8kHg"
   },
   "source": [
    "Um **conjunto** de **colunas** ou **séries** é um novo **dataframe**. Para selecionar um conjunto de colunas utilizamos a seguinte notação:\n",
    "\n",
    "```python\n",
    "novo_dataframe = dataframe[['<nome-da-coluna-a>', '<nome-da-coluna-b>', ...]]\n",
    "```\n",
    "\n",
    "**Nota**: Repare no uso das chaves duplas `[[ ]]`."
   ]
  },
  {
   "cell_type": "markdown",
   "metadata": {
    "id": "W9Moi_1-9Hr4"
   },
   "source": [
    "*   **Exemplo**: Colunas ranking e linguagem de programação do dataframe `github_df`:"
   ]
  },
  {
   "cell_type": "code",
   "execution_count": null,
   "metadata": {
    "id": "dO9sVjPa9HsZ"
   },
   "outputs": [],
   "source": [
    "ranking_linguagem_df = github_df[['ranking', 'language']]"
   ]
  },
  {
   "cell_type": "code",
   "execution_count": null,
   "metadata": {
    "id": "NqBRmkf3JEzh"
   },
   "outputs": [],
   "source": [
    "ranking_linguagem_df"
   ]
  },
  {
   "cell_type": "code",
   "execution_count": null,
   "metadata": {
    "id": "_au_4EJC9HsZ"
   },
   "outputs": [],
   "source": [
    "type(ranking_linguagem_df)"
   ]
  },
  {
   "cell_type": "markdown",
   "metadata": {
    "id": "7icZ-XztJgrr"
   },
   "source": [
    "#### 2.2.1 Seleção "
   ]
  },
  {
   "cell_type": "markdown",
   "metadata": {
    "id": "wzoCWYcpJgrt"
   },
   "source": [
    "*   **Exemplo**: Indexação simples (linha) com método `loc` (similar a lista Python):"
   ]
  },
  {
   "cell_type": "code",
   "execution_count": null,
   "metadata": {
    "id": "cbEVqpxQJgrt"
   },
   "outputs": [],
   "source": [
    "top_1_linguagem = ranking_linguagem_df.loc[0]"
   ]
  },
  {
   "cell_type": "code",
   "execution_count": null,
   "metadata": {
    "id": "qMKBxt3fJgru"
   },
   "outputs": [],
   "source": [
    "top_1_linguagem"
   ]
  },
  {
   "cell_type": "code",
   "execution_count": null,
   "metadata": {
    "id": "0hEYyLVJJgrv"
   },
   "outputs": [],
   "source": [
    "type(top_1_linguagem)"
   ]
  },
  {
   "cell_type": "markdown",
   "metadata": {
    "id": "cJlp7k7frtQn"
   },
   "source": [
    "*   **Exemplo**: Indexação simples (linha e coluna) com método `loc` (similar a lista Python):"
   ]
  },
  {
   "cell_type": "code",
   "execution_count": null,
   "metadata": {
    "id": "ysz6K-vyrtQ3"
   },
   "outputs": [],
   "source": [
    "top_1_linguagem = github_df.loc[0, ['ranking', 'language']]"
   ]
  },
  {
   "cell_type": "code",
   "execution_count": null,
   "metadata": {
    "id": "NVZIAd7WrtQ3"
   },
   "outputs": [],
   "source": [
    "top_1_linguagem"
   ]
  },
  {
   "cell_type": "code",
   "execution_count": null,
   "metadata": {
    "id": "BQ_vQ7jPrtQ4"
   },
   "outputs": [],
   "source": [
    "type(top_1_linguagem)"
   ]
  },
  {
   "cell_type": "markdown",
   "metadata": {
    "id": "TY5U3yQ1Jgrv"
   },
   "source": [
    "*   **Exemplo**: Fatiamento ou *slicing* (linhas) com método `loc` (similar a lista Python):"
   ]
  },
  {
   "cell_type": "code",
   "execution_count": null,
   "metadata": {
    "id": "v6s_MlyaJgrw"
   },
   "outputs": [],
   "source": [
    "top_5_ranking_linguagem = ranking_linguagem_df.loc[0:5]"
   ]
  },
  {
   "cell_type": "code",
   "execution_count": null,
   "metadata": {
    "id": "iEKc8FNJJgrx"
   },
   "outputs": [],
   "source": [
    "top_5_ranking_linguagem"
   ]
  },
  {
   "cell_type": "code",
   "execution_count": null,
   "metadata": {
    "id": "dKtC7REkJgrx"
   },
   "outputs": [],
   "source": [
    "type(top_5_ranking_linguagem)"
   ]
  },
  {
   "cell_type": "markdown",
   "metadata": {
    "id": "adXhM2I3rPY3"
   },
   "source": [
    "*   **Exemplo**: Fatiamento ou *slicing* (linhas e colunas) com método `loc` (similar a lista Python):"
   ]
  },
  {
   "cell_type": "code",
   "execution_count": null,
   "metadata": {
    "id": "9K7CVUcirPY4"
   },
   "outputs": [],
   "source": [
    "top_5_ranking_linguagem = github_df.loc[0:5, ['ranking', 'language']]"
   ]
  },
  {
   "cell_type": "code",
   "execution_count": null,
   "metadata": {
    "id": "QoWCUYqCrPY5"
   },
   "outputs": [],
   "source": [
    "top_5_ranking_linguagem"
   ]
  },
  {
   "cell_type": "code",
   "execution_count": null,
   "metadata": {
    "id": "TQYc9mkkrPY6"
   },
   "outputs": [],
   "source": [
    "type(top_5_ranking_linguagem)"
   ]
  },
  {
   "cell_type": "markdown",
   "metadata": {
    "id": "72pCKmpiJgry"
   },
   "source": [
    "#### 2.2.2 Filtros "
   ]
  },
  {
   "cell_type": "markdown",
   "metadata": {
    "id": "o3Ozx__8Jgrz"
   },
   "source": [
    "*   **Exemplo**: Filtro com o método `query`:"
   ]
  },
  {
   "cell_type": "code",
   "execution_count": null,
   "metadata": {
    "id": "ZwKbySk_Jgr0"
   },
   "outputs": [],
   "source": [
    "ranking_linguagem_df.query('language == \"python\"')"
   ]
  },
  {
   "cell_type": "code",
   "execution_count": null,
   "metadata": {
    "id": "W_rWrIk6K1gQ"
   },
   "outputs": [],
   "source": [
    "ranking_linguagem_df.query('language == \"python\" & ranking > 5')"
   ]
  },
  {
   "cell_type": "code",
   "execution_count": null,
   "metadata": {
    "id": "ufvbnj5PK9Ca"
   },
   "outputs": [],
   "source": [
    "ranking_linguagem_df.query('language == \"python\" | language == \"go\"')"
   ]
  },
  {
   "cell_type": "markdown",
   "metadata": {
    "id": "ELgoMRAAUSjv"
   },
   "source": [
    "## 3\\. Inserção, Deleção e Atualização"
   ]
  },
  {
   "cell_type": "markdown",
   "metadata": {
    "id": "gdukZft-DRcG"
   },
   "source": [
    "### **3.1. Série** "
   ]
  },
  {
   "cell_type": "markdown",
   "metadata": {
    "id": "z--x9j7jNMFw"
   },
   "source": [
    "#### 3.1.1 Inserção "
   ]
  },
  {
   "cell_type": "markdown",
   "metadata": {
    "id": "owu5-rt-OW3D"
   },
   "source": [
    "*   **Exemplo**: Adição de elementos com o método `append`:"
   ]
  },
  {
   "cell_type": "code",
   "execution_count": null,
   "metadata": {
    "id": "yjlgmbEVMsMo"
   },
   "outputs": [],
   "source": [
    "linguagem_serie.append(pd.Series(['java', 'python']), ignore_index=True)"
   ]
  },
  {
   "cell_type": "code",
   "execution_count": null,
   "metadata": {
    "id": "_7nq9EE_NXbD"
   },
   "outputs": [],
   "source": [
    "linguagem_serie"
   ]
  },
  {
   "cell_type": "code",
   "execution_count": null,
   "metadata": {
    "id": "k5lf6ReZNbjK"
   },
   "outputs": [],
   "source": [
    "linguagem_serie = linguagem_serie.append(pd.Series('java'), ignore_index=True)"
   ]
  },
  {
   "cell_type": "code",
   "execution_count": null,
   "metadata": {
    "id": "PbLmkBtBNnus"
   },
   "outputs": [],
   "source": [
    "linguagem_serie"
   ]
  },
  {
   "cell_type": "markdown",
   "metadata": {
    "id": "bUB9ylHuN2rG"
   },
   "source": [
    "#### 3.1.2 Deleção "
   ]
  },
  {
   "cell_type": "markdown",
   "metadata": {
    "id": "tMakhpZBOlOS"
   },
   "source": [
    "*   **Exemplo**: Remoção de elementos com filtro funcional:"
   ]
  },
  {
   "cell_type": "code",
   "execution_count": null,
   "metadata": {
    "id": "AQJkyhOHOMtA"
   },
   "outputs": [],
   "source": [
    "linguagem_serie = linguagem_serie[lambda linguagem: linguagem != 'python']"
   ]
  },
  {
   "cell_type": "markdown",
   "metadata": {
    "id": "4YEeM0bHQPLY"
   },
   "source": [
    "#### 3.1.3 Atualização "
   ]
  },
  {
   "cell_type": "markdown",
   "metadata": {
    "id": "GM9HuwszQeBA"
   },
   "source": [
    "*   **Exemplo**: Atualização de elementos com indexação simples:"
   ]
  },
  {
   "cell_type": "code",
   "execution_count": null,
   "metadata": {
    "id": "UKOqx-xMQcz7"
   },
   "outputs": [],
   "source": [
    "linguagem_serie.loc[0] = 'Go'"
   ]
  },
  {
   "cell_type": "code",
   "execution_count": null,
   "metadata": {
    "id": "_G82hlrnQlAj"
   },
   "outputs": [],
   "source": [
    "linguagem_serie"
   ]
  },
  {
   "cell_type": "markdown",
   "metadata": {
    "id": "_wwufN-BQoaL"
   },
   "source": [
    "*   **Exemplo**: Atualização de elementos com fatiamento ou *slicing*:"
   ]
  },
  {
   "cell_type": "code",
   "execution_count": null,
   "metadata": {
    "id": "VyY2zhOoQoaN"
   },
   "outputs": [],
   "source": [
    "linguagem_serie.loc[0:2] = pd.Series(['Go', 'Typescript', 'Go'])"
   ]
  },
  {
   "cell_type": "code",
   "execution_count": null,
   "metadata": {
    "id": "xtsTMdm1QoaO"
   },
   "outputs": [],
   "source": [
    "linguagem_serie"
   ]
  },
  {
   "cell_type": "markdown",
   "metadata": {
    "id": "inQ16Lp-QPLZ"
   },
   "source": [
    "*   **Exemplo**: Atualização de elementos com filtro funcional:"
   ]
  },
  {
   "cell_type": "code",
   "execution_count": null,
   "metadata": {
    "id": "VVOTdQzaQPLa"
   },
   "outputs": [],
   "source": [
    "linguagem_serie[lambda linguagem: linguagem == 'python'] = 'Python'"
   ]
  },
  {
   "cell_type": "code",
   "execution_count": null,
   "metadata": {
    "id": "aOWzgPkVQXS8"
   },
   "outputs": [],
   "source": [
    "linguagem_serie"
   ]
  },
  {
   "cell_type": "markdown",
   "metadata": {
    "id": "j611vH5T17VR"
   },
   "source": [
    "### **3.2. DataFrame** "
   ]
  },
  {
   "cell_type": "markdown",
   "metadata": {
    "id": "fNrHY7J417Ve"
   },
   "source": [
    "#### 3.1.1 Inserção "
   ]
  },
  {
   "cell_type": "markdown",
   "metadata": {
    "id": "_oYYwO3N17Ve"
   },
   "source": [
    "*   **Exemplo**: Adição de linhas com o método `append`:"
   ]
  },
  {
   "cell_type": "code",
   "execution_count": null,
   "metadata": {
    "id": "zuQqbatS3WSi"
   },
   "outputs": [],
   "source": [
    "projeto = dict(ranking=[11], project=['signoz'], language=['typescript'], stars=[2651], stars_today=[491], forks=[115])"
   ]
  },
  {
   "cell_type": "code",
   "execution_count": null,
   "metadata": {
    "id": "pVbfeSbBq8Th"
   },
   "outputs": [],
   "source": [
    "github_df.append(pd.DataFrame(projeto), ignore_index=True)"
   ]
  },
  {
   "cell_type": "code",
   "execution_count": null,
   "metadata": {
    "id": "GWgVFyeBq94L"
   },
   "outputs": [],
   "source": [
    "github_df"
   ]
  },
  {
   "cell_type": "code",
   "execution_count": null,
   "metadata": {
    "id": "0qwcKClP17Vf"
   },
   "outputs": [],
   "source": [
    "github_df = github_df.append(pd.DataFrame(projeto), ignore_index=True)"
   ]
  },
  {
   "cell_type": "code",
   "execution_count": null,
   "metadata": {
    "id": "J_24ezqS17Vf"
   },
   "outputs": [],
   "source": [
    "github_df"
   ]
  },
  {
   "cell_type": "markdown",
   "metadata": {
    "id": "WaYRDfOa17Vg"
   },
   "source": [
    "#### 3.1.2 Deleção "
   ]
  },
  {
   "cell_type": "markdown",
   "metadata": {
    "id": "lsHwn5YW17Vg"
   },
   "source": [
    "*   **Exemplo**: Remoção de linhas com o método `query`:"
   ]
  },
  {
   "cell_type": "code",
   "execution_count": null,
   "metadata": {
    "id": "_5KzgV2r17Vg"
   },
   "outputs": [],
   "source": [
    "github_df.query('language != \"Python\"')"
   ]
  },
  {
   "cell_type": "markdown",
   "metadata": {
    "id": "jVVopMlp17Vh"
   },
   "source": [
    "#### 3.1.3 Atualização "
   ]
  },
  {
   "cell_type": "markdown",
   "metadata": {
    "id": "aWD3-Vzr17Vh"
   },
   "source": [
    "*   **Exemplo**: Atualização de **um** elemento com o método `loc`:"
   ]
  },
  {
   "cell_type": "code",
   "execution_count": null,
   "metadata": {
    "id": "uBkSfRDXqDO7"
   },
   "outputs": [],
   "source": [
    "github_df.loc[0, 'language'] = 'go'"
   ]
  },
  {
   "cell_type": "code",
   "execution_count": null,
   "metadata": {
    "id": "AZ_meqgS17Vi"
   },
   "outputs": [],
   "source": [
    "github_df"
   ]
  },
  {
   "cell_type": "markdown",
   "metadata": {
    "id": "8nPYCMeM17Vi"
   },
   "source": [
    "*   **Exemplo**: Atualização de **diversos** elementos com o método `apply`:"
   ]
  },
  {
   "cell_type": "code",
   "execution_count": null,
   "metadata": {
    "id": "38d2dB0317Vi"
   },
   "outputs": [],
   "source": [
    "github_df['language'] = github_df['language'].apply(lambda linguagem: 'python' if linguagem == 'Python' else linguagem)"
   ]
  },
  {
   "cell_type": "code",
   "execution_count": null,
   "metadata": {
    "id": "fqy4o5lM17Vj"
   },
   "outputs": [],
   "source": [
    "github_df"
   ]
  }
 ],
 "metadata": {
  "colab": {
   "authorship_tag": "ABX9TyPFMpSLAwIAUfv5E6FsPlA6",
   "collapsed_sections": [],
   "name": "module_12_class.ipynb",
   "provenance": [],
   "toc_visible": true
  },
  "kernelspec": {
   "display_name": "Python 3 (ipykernel)",
   "language": "python",
   "name": "python3"
  },
  "language_info": {
   "codemirror_mode": {
    "name": "ipython",
    "version": 3
   },
   "file_extension": ".py",
   "mimetype": "text/x-python",
   "name": "python",
   "nbconvert_exporter": "python",
   "pygments_lexer": "ipython3",
   "version": "3.9.12"
  }
 },
 "nbformat": 4,
 "nbformat_minor": 1
}
