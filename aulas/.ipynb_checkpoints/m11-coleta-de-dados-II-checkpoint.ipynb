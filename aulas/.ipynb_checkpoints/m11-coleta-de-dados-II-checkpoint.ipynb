{
 "cells": [
  {
   "cell_type": "markdown",
   "metadata": {
    "id": "KJqp9AANOCtf"
   },
   "source": [
    "<img src=\"https://raw.githubusercontent.com/andre-marcos-perez/ebac-course-utils/main/media/logo/newebac_logo_black_half.png\" alt=\"ebac-logo\">\n",
    "\n",
    "---\n",
    "\n",
    "# **Módulo** | Análise de Dados: Coleta de Dados II\n",
    "Caderno de **Aula**<br> \n",
    "Professor [André Perez](https://www.linkedin.com/in/andremarcosperez/)\n",
    "\n",
    "---"
   ]
  },
  {
   "cell_type": "markdown",
   "metadata": {
    "id": "d9jDtUbDOE1-"
   },
   "source": [
    "# **Tópicos**\n",
    "\n",
    "<ol type=\"1\">\n",
    "  <li>Web Crawling;</li>\n",
    "  <li>Web Scraping;</li>\n",
    "  <li>Web API.</li>\n",
    "</ol>"
   ]
  },
  {
   "cell_type": "markdown",
   "metadata": {
    "id": "SmoHgt-lwkpD"
   },
   "source": [
    "---"
   ]
  },
  {
   "cell_type": "markdown",
   "metadata": {
    "id": "GABI6OW8OfQ2"
   },
   "source": [
    "# **Aulas**"
   ]
  },
  {
   "cell_type": "markdown",
   "metadata": {
    "id": "eJ283bopLqLU"
   },
   "source": [
    "## 0\\. Estruturas de dados"
   ]
  },
  {
   "cell_type": "markdown",
   "metadata": {
    "id": "0gmSAOdOLqLU"
   },
   "source": [
    "*   **Não estruturado**: texto, imagem, aúdio, etc.\n",
    "*   **Semi estruturado**: html, json, etc.\n",
    "*   **Estruturado**: tabelas, planilhas, etc.\n",
    "\n"
   ]
  },
  {
   "cell_type": "markdown",
   "metadata": {
    "id": "muD1vxozykSC"
   },
   "source": [
    "## 1\\. Web Crawling"
   ]
  },
  {
   "cell_type": "markdown",
   "metadata": {
    "id": "5a3_syBIP6yO"
   },
   "source": [
    "### **1.1. HTTP** "
   ]
  },
  {
   "cell_type": "markdown",
   "metadata": {
    "id": "NglCEvJDmqkw"
   },
   "source": [
    "O HTTP (hypertext transfer protocol) é um protocolo de transferência de hipertexto (texto, imagens, vídeos, etc.). É o protocolo padrão de transferência de informação pela internet: \n",
    "\n",
    "```\n",
    "http://www.google.com/\n",
    "```"
   ]
  },
  {
   "cell_type": "markdown",
   "metadata": {
    "id": "6Vz-WdRe6yT_"
   },
   "source": [
    "**Cliente / Servidor** é a arquitetura da internet. Nela um **cliente** (navegador web, código Python, etc.) utiliza um **método** HTTP para interagir com um servidor (requisitar dados, enviar dados, etc.). O **servidor**, por sua vez, envia uma resposta para o cliente com um **código de retorno** indicando se a interação ocorreu com sucesso."
   ]
  },
  {
   "cell_type": "markdown",
   "metadata": {
    "id": "ixvdR5Hc6YBV"
   },
   "source": [
    "**Métodos** são as operações que podemos realizar com o protocolo para interagir com um servidor, você pode encontrar uma lista completa neste [link](https://developer.mozilla.org/pt-BR/docs/Web/HTTP/Methods). Os mais importantes são: "
   ]
  },
  {
   "cell_type": "markdown",
   "metadata": {
    "id": "vQgT8F82xi5t"
   },
   "source": [
    "* **GET**: Requisitar dados, (acessar uma página web, carregar o feed do instagram, etc.);\n",
    "* **POST**: Enviar dados (login, cadastro, mensagem whatsapp, tweet do Twitter)."
   ]
  },
  {
   "cell_type": "markdown",
   "metadata": {
    "id": "4x0_bwpUxT5i"
   },
   "source": [
    "**Códigos de retorno** são as números de 0 a 1000 que recebemos como resposta do servidor ao realizar uma operação qualquer, você pode encontrar uma lista completa neste [link](https://developer.mozilla.org/pt-BR/docs/Web/HTTP/Status). Os mais importantes são:\n"
   ]
  },
  {
   "cell_type": "markdown",
   "metadata": {
    "id": "S54FAykB9vwz"
   },
   "source": [
    "\n",
    "\n",
    "* Entre **200** e **299**: Sucesso;\n",
    "* Entre **400** e **499**: Erro do cliente;\n",
    "* Entre **500** e **599**: Erro do servidor.\n"
   ]
  },
  {
   "cell_type": "markdown",
   "metadata": {
    "id": "pnTZr_TR-FHG"
   },
   "source": [
    "Código **200** (sucesso) é o mais comum e o **404** (não encontrado) o mais famoso!"
   ]
  },
  {
   "cell_type": "markdown",
   "metadata": {
    "id": "E6D5rjlESJ1A"
   },
   "source": [
    "### **1.2. Pacote requests** "
   ]
  },
  {
   "cell_type": "markdown",
   "metadata": {
    "id": "N0DOVccZ0bXA"
   },
   "source": [
    "Pacote Python para interagir com a web através do protocolo HTTP. A documentação pode ser encontrada neste ([link](https://docs.python-requests.org/en/master/))."
   ]
  },
  {
   "cell_type": "code",
   "execution_count": null,
   "metadata": {
    "id": "yTaZdu4K_Y2u"
   },
   "outputs": [],
   "source": [
    "import requests\n",
    "\n",
    "print(requests.__version__)"
   ]
  },
  {
   "cell_type": "markdown",
   "metadata": {
    "id": "zc4FNq2F_y_y"
   },
   "source": [
    "Método:"
   ]
  },
  {
   "cell_type": "code",
   "execution_count": null,
   "metadata": {
    "id": "kZxaere104cn"
   },
   "outputs": [],
   "source": [
    "resposta = requests.get('http://www.google.com')"
   ]
  },
  {
   "cell_type": "markdown",
   "metadata": {
    "id": "ExU-GJn2_7vb"
   },
   "source": [
    "Código de retorno:"
   ]
  },
  {
   "cell_type": "code",
   "execution_count": null,
   "metadata": {
    "id": "o1zN-RhW_4LF"
   },
   "outputs": [],
   "source": [
    "print(resposta.status_code)"
   ]
  },
  {
   "cell_type": "markdown",
   "metadata": {
    "id": "aWuUGOgN_yPX"
   },
   "source": [
    "Em geral, é bom verificar o código:"
   ]
  },
  {
   "cell_type": "code",
   "execution_count": null,
   "metadata": {
    "id": "rIZy-Z30_xKE"
   },
   "outputs": [],
   "source": [
    "import requests\n",
    "from requests.exceptions import HTTPError\n",
    "\n",
    "conteudo = None\n",
    "URL = 'http://www.google.com/andre'\n",
    "\n",
    "try:\n",
    "  resposta = requests.get(URL)\n",
    "  resposta.raise_for_status()\n",
    "except HTTPError as exc:\n",
    "  print(exc)\n",
    "else:\n",
    "  conteudo = resposta.text\n",
    "\n",
    "print(conteudo)"
   ]
  },
  {
   "cell_type": "markdown",
   "metadata": {
    "id": "9IX37Im4BCu7"
   },
   "source": [
    "### **1.3. Web Crawl** "
   ]
  },
  {
   "cell_type": "markdown",
   "metadata": {
    "id": "6Eg5qMFwBCve"
   },
   "source": [
    "Aplicação que interage com a web de forma automatizada, também conhecido como *web spider* ou *bot*. O pacote **requests** funciona bem para interaçõces simples (apenas metodos HTTP) já os pacotes **selenium** ([documentação](https://selenium-python.readthedocs.io/)) e **scrapy** ([documentação](https://docs.scrapy.org/en/latest/)) permitem que você navegue pela internet."
   ]
  },
  {
   "cell_type": "markdown",
   "metadata": {
    "id": "eII8lMdcCrlD"
   },
   "source": [
    "> **Web crawling** é um tema que **requer muito cuidado**, em geral você precisa de autorização do website para acessa-lo automaticamente. Empresas que usam a tecnologia (já trabalhei em uma) possuem departamento jurídicos dedicados ao assunto."
   ]
  },
  {
   "cell_type": "markdown",
   "metadata": {
    "id": "Fe2V68akHcZm"
   },
   "source": [
    "> A maioria dos sites fornece um arquivo chamado `robots.txt` informando como um web crawler pode interagir com a página."
   ]
  },
  {
   "cell_type": "markdown",
   "metadata": {
    "id": "jIsKVyzeI5-E"
   },
   "source": [
    "**Exemplo**: Função de web crawler."
   ]
  },
  {
   "cell_type": "code",
   "execution_count": null,
   "metadata": {
    "id": "KKKeAJDrIQb_"
   },
   "outputs": [],
   "source": [
    "import requests\n",
    "from requests.exceptions import HTTPError\n",
    "\n",
    "def crawl_website(url: str) -> str:\n",
    "\n",
    "  try:\n",
    "    resposta = requests.get(url)\n",
    "    resposta.raise_for_status()\n",
    "  except HTTPError as exc:\n",
    "    print(exc)\n",
    "  else:\n",
    "    return resposta.text"
   ]
  },
  {
   "cell_type": "markdown",
   "metadata": {
    "id": "1PEah5unHz29"
   },
   "source": [
    "**Exemplo:** Wikipedia robots.txt"
   ]
  },
  {
   "cell_type": "code",
   "execution_count": null,
   "metadata": {
    "id": "Jqh7RQyXH5Tc"
   },
   "outputs": [],
   "source": [
    "URL = 'https://en.wikipedia.org/robots.txt'\n",
    "\n",
    "conteudo = crawl_website(url=URL)\n",
    "print(conteudo)"
   ]
  },
  {
   "cell_type": "markdown",
   "metadata": {
    "id": "R1ZSzkmlDdFv"
   },
   "source": [
    "**Exemplo:** Extrair a página da Wikipédia sobre web crawlers. "
   ]
  },
  {
   "cell_type": "code",
   "execution_count": null,
   "metadata": {
    "id": "mF4DSwhc3ChM"
   },
   "outputs": [],
   "source": [
    "URL = 'https://en.wikipedia.org/wiki/Web_crawler'\n",
    "\n",
    "conteudo = crawl_website(url=URL)\n",
    "print(conteudo)"
   ]
  },
  {
   "cell_type": "markdown",
   "metadata": {
    "id": "4rRCvy_UURrM"
   },
   "source": [
    "## 2\\. Web Scraping"
   ]
  },
  {
   "cell_type": "markdown",
   "metadata": {
    "id": "78RHF81A3tat"
   },
   "source": [
    "### **2.1. Formato HTML** "
   ]
  },
  {
   "cell_type": "markdown",
   "metadata": {
    "id": "i3f-X7y23onm"
   },
   "source": [
    "Um arquivo **texto** semi-estruturado, organizado por **tags**, você pode encontrar uma lista completa neste [link](https://www.w3schools.com/tags/ref_byfunc.asp). \n"
   ]
  },
  {
   "cell_type": "markdown",
   "metadata": {
    "id": "nKDF9EBH3onp"
   },
   "source": [
    "**Exemplo:** Arquivo `lotr.html`."
   ]
  },
  {
   "cell_type": "code",
   "execution_count": null,
   "metadata": {
    "id": "HLqVHEHZ3onq"
   },
   "outputs": [],
   "source": [
    "%%html\n",
    "<html>\n",
    "  <head>\n",
    "    <!-- metadata -->\n",
    "  </head>\n",
    "  <body>\n",
    "    <h3>Senhor dos Anéis</h3>\n",
    "    <p>Filmes:</p>\n",
    "    <ul>\n",
    "      <li><b>2001:</b> O Senhor dos Anéis: A Sociedade do Anel</li>\n",
    "      <li><b>2002:</b> O Senhor dos Anéis: As Duas Torres</li>\n",
    "      <li><b>2003:</b> O Senhor dos Anéis: O Retorno do Rei</li>\n",
    "    </ul>\n",
    "  </body>\n",
    "</html>\n"
   ]
  },
  {
   "cell_type": "code",
   "execution_count": null,
   "metadata": {
    "id": "RRhGZvNuOEzf"
   },
   "outputs": [],
   "source": [
    "%%writefile lotr.html\n",
    "<html>\n",
    "  <head>\n",
    "    <!-- metadata -->\n",
    "  </head>\n",
    "  <body>\n",
    "    <h3>Senhor dos Anéis</h3>\n",
    "    <p>Filmes:</p>\n",
    "    <ol>\n",
    "      <li><b>2001:</b> O Senhor dos Anéis: A Sociedade do Anel</li>\n",
    "      <li><b>2002:</b> O Senhor dos Anéis: As Duas Torres</li>\n",
    "      <li><b>2003:</b> O Senhor dos Anéis: O Retorno do Rei</li>\n",
    "    </ol>\n",
    "  </body>\n",
    "</html>"
   ]
  },
  {
   "cell_type": "markdown",
   "metadata": {
    "id": "OUa6f2wEM_AX"
   },
   "source": [
    "### **2.2. Pacote beautifulsoup4** "
   ]
  },
  {
   "cell_type": "markdown",
   "metadata": {
    "id": "5nmdEpbvM_An"
   },
   "source": [
    "Pacote Python para extrair informações de arquivos HTML. A documentação pode ser encontrada neste ([link](https://www.crummy.com/software/BeautifulSoup/bs4/doc/)).\n",
    "\n",
    "\n"
   ]
  },
  {
   "cell_type": "markdown",
   "metadata": {
    "id": "QGuwOx4zNn69"
   },
   "source": [
    "**Exemplo:** Extrair os filmes e anos do arquivo `lotr.html` em um dicionário."
   ]
  },
  {
   "cell_type": "code",
   "execution_count": null,
   "metadata": {
    "id": "ZYTOOGfINnKT"
   },
   "outputs": [],
   "source": [
    "from bs4 import BeautifulSoup\n",
    "\n",
    "pagina = BeautifulSoup(open('lotr.html', mode='r'), 'html.parser')"
   ]
  },
  {
   "cell_type": "code",
   "execution_count": null,
   "metadata": {
    "id": "3FWl9xZCPAZ6"
   },
   "outputs": [],
   "source": [
    "filmes_li = pagina.find_all('li')\n",
    "print(filmes_li)"
   ]
  },
  {
   "cell_type": "code",
   "execution_count": null,
   "metadata": {
    "id": "je4Ga810QypZ"
   },
   "outputs": [],
   "source": [
    "print(list(set(map(lambda filme_li: type(filme_li), filmes_li))))"
   ]
  },
  {
   "cell_type": "code",
   "execution_count": null,
   "metadata": {
    "id": "AQ5PD0YpPWKw"
   },
   "outputs": [],
   "source": [
    "filmes = []\n",
    "\n",
    "for filme_li in filmes_li:\n",
    "  filme = filme_li.get_text()\n",
    "  ano = int(filme.split(sep=':')[0].strip())\n",
    "  titulo = ':'.join(filme.split(sep=':')[1:]).strip()\n",
    "  filmes.append({'ano': ano, 'titulo': titulo})\n",
    "\n",
    "for filme in filmes:\n",
    "  print(filme)"
   ]
  },
  {
   "cell_type": "markdown",
   "metadata": {
    "id": "JnZYDOJ5UGeq"
   },
   "source": [
    "### **2.3. Web Scrape** "
   ]
  },
  {
   "cell_type": "markdown",
   "metadata": {
    "id": "roX-_J4FUWO0"
   },
   "source": [
    "Aplicação que extrai conteúdo de páginas web de forma automatizada, em geral é aplicado após o processo de web crawling."
   ]
  },
  {
   "cell_type": "markdown",
   "metadata": {
    "id": "su27z_AGRWyX"
   },
   "source": [
    "**Exemplo:** Extrair todo o texto da página da Wikipédia sobre web crawlers e contar a ocorrência da palavra `crawler`."
   ]
  },
  {
   "cell_type": "code",
   "execution_count": null,
   "metadata": {
    "id": "sg6BGdCYUqiP"
   },
   "outputs": [],
   "source": [
    "URL = 'https://en.wikipedia.org/wiki/Web_crawler'\n",
    "\n",
    "conteudo = crawl_website(url=URL)\n",
    "with open(file='wiki.html', mode='w', encoding='utf8') as arquivo:\n",
    "  arquivo.write(conteudo)"
   ]
  },
  {
   "cell_type": "code",
   "execution_count": null,
   "metadata": {
    "id": "ZdvMdGMrRjES"
   },
   "outputs": [],
   "source": [
    "from bs4 import BeautifulSoup\n",
    "\n",
    "pagina = BeautifulSoup(open('wiki.html', mode='r'), 'html.parser')"
   ]
  },
  {
   "cell_type": "code",
   "execution_count": null,
   "metadata": {
    "id": "hygnlatvRngb"
   },
   "outputs": [],
   "source": [
    "texto = pagina.get_text()\n",
    "print(texto)"
   ]
  },
  {
   "cell_type": "code",
   "execution_count": null,
   "metadata": {
    "id": "W_PyA0akSSWH"
   },
   "outputs": [],
   "source": [
    "import re\n",
    "\n",
    "ocorrencias = len(re.findall('crawler', texto, re.IGNORECASE))\n",
    "print(ocorrencias)"
   ]
  },
  {
   "cell_type": "markdown",
   "metadata": {
    "id": "ELgoMRAAUSjv"
   },
   "source": [
    "## 3\\. Web API"
   ]
  },
  {
   "cell_type": "markdown",
   "metadata": {
    "id": "gdukZft-DRcG"
   },
   "source": [
    "### **3.1. Formato JSON** "
   ]
  },
  {
   "cell_type": "markdown",
   "metadata": {
    "id": "zRXV0SW5DRcg"
   },
   "source": [
    "Um arquivo semi-estruturado, organizado por **chave/valor**, é equivalente a um dicionário Python.\n",
    "\n",
    "\n",
    "\n"
   ]
  },
  {
   "cell_type": "markdown",
   "metadata": {
    "id": "xMIEZoXoDRcg"
   },
   "source": [
    "**Arquivo JSON:** lotr.json"
   ]
  },
  {
   "cell_type": "code",
   "execution_count": null,
   "metadata": {
    "id": "NoqBO0BBUATc"
   },
   "outputs": [],
   "source": [
    "%%writefile lotr.json\n",
    "[\n",
    "    {\n",
    "        \"ano\": 2001,\n",
    "        \"titulo\": \"O Senhor dos Anéis: A Sociedade do Anel\"\n",
    "    },\n",
    "    {\n",
    "        \"ano\": 2002,\n",
    "        \"titulo\": \"O Senhor dos Anéis: As Duas Torres\"\n",
    "    },\n",
    "    {\n",
    "        \"ano\": 2003,\n",
    "        \"titulo\": \"O Senhor dos Anéis: O Retorno do Rei\"\n",
    "    }\n",
    "]"
   ]
  },
  {
   "cell_type": "markdown",
   "metadata": {
    "id": "NxrikQCDGiU5"
   },
   "source": [
    "### **2.2. Pacote json** "
   ]
  },
  {
   "cell_type": "markdown",
   "metadata": {
    "id": "26pAIk2JGiU6"
   },
   "source": [
    "Pacote nativo do Python para interagir com dados no formato json."
   ]
  },
  {
   "cell_type": "markdown",
   "metadata": {
    "id": "Vx-lQHLyMXS_"
   },
   "source": [
    "**Exemplo**: Arquivo JSON para dicionario Python."
   ]
  },
  {
   "cell_type": "code",
   "execution_count": null,
   "metadata": {
    "id": "Y5H7le-dGzKT"
   },
   "outputs": [],
   "source": [
    "import json\n",
    "\n",
    "data = json.load(open(file='lotr.json', mode='r'))\n",
    "print(data)"
   ]
  },
  {
   "cell_type": "markdown",
   "metadata": {
    "id": "oQeBERRaW97K"
   },
   "source": [
    "**Exemplo**: Dicionario Python para formato JSON."
   ]
  },
  {
   "cell_type": "code",
   "execution_count": null,
   "metadata": {
    "id": "LuX3saC6W97z"
   },
   "outputs": [],
   "source": [
    "import json\n",
    "\n",
    "data_json = json.dumps(data, indent=2, ensure_ascii=False)\n",
    "print(data_json)"
   ]
  },
  {
   "cell_type": "markdown",
   "metadata": {
    "id": "bo8UCA3tXUWd"
   },
   "source": [
    "### **2.3. Web API** "
   ]
  },
  {
   "cell_type": "markdown",
   "metadata": {
    "id": "_jxUM48wXUWf"
   },
   "source": [
    "Uma API (application programming interface) é uma interface de comunicação com uma aplicação no formato cliente/servidor. Uma REST API é uma API que segue o padrão HTTP e transfere dados (em geral) no formato JSON. APIs fechadas são pagas e exigem autenticação (via método HTTP POST). APIs abertas são gratuitas e podem exigir autenticação."
   ]
  },
  {
   "cell_type": "markdown",
   "metadata": {
    "id": "6wlzx767cFzD"
   },
   "source": [
    "Alguns exemplos:\n",
    "\n",
    "* [Twitter](https://developer.twitter.com/en/docs);\n",
    "* [Governo Federal](https://www.gov.br/conecta/catalogo/)."
   ]
  },
  {
   "cell_type": "markdown",
   "metadata": {
    "id": "h9p2M6ZbZnCV"
   },
   "source": [
    "**Exemplo**: Extrair a taxa CDI da API da B3."
   ]
  },
  {
   "cell_type": "code",
   "execution_count": null,
   "metadata": {
    "id": "7wAUji7_Yc72"
   },
   "outputs": [],
   "source": [
    "import requests\n",
    "from requests.exceptions import HTTPError\n",
    "\n",
    "conteudo = None\n",
    "URL = 'https://www2.cetip.com.br/ConsultarTaxaDi/ConsultarTaxaDICetip.aspx'\n",
    "\n",
    "try:\n",
    "  resposta = requests.get(URL)\n",
    "  resposta.raise_for_status()\n",
    "except HTTPError as exc:\n",
    "  print(exc)\n",
    "else:\n",
    "  conteudo = resposta.text\n",
    "\n",
    "print(conteudo)\n",
    "print(type(conteudo))"
   ]
  },
  {
   "cell_type": "code",
   "execution_count": null,
   "metadata": {
    "id": "B2y4J3OFZUxE"
   },
   "outputs": [],
   "source": [
    "import json\n",
    "\n",
    "data = json.loads(conteudo)\n",
    "print(data)"
   ]
  },
  {
   "cell_type": "code",
   "execution_count": null,
   "metadata": {
    "id": "tvlPzYvYZcHI"
   },
   "outputs": [],
   "source": [
    "cdi = float(data['taxa'].replace(',', '.'))\n",
    "print(cdi)"
   ]
  }
 ],
 "metadata": {
  "colab": {
   "authorship_tag": "ABX9TyO7aDIkN1+ATSCPO5FSTkUE",
   "collapsed_sections": [],
   "name": "module_11_class.ipynb",
   "provenance": [],
   "toc_visible": true
  },
  "kernelspec": {
   "display_name": "Python 3 (ipykernel)",
   "language": "python",
   "name": "python3"
  },
  "language_info": {
   "codemirror_mode": {
    "name": "ipython",
    "version": 3
   },
   "file_extension": ".py",
   "mimetype": "text/x-python",
   "name": "python",
   "nbconvert_exporter": "python",
   "pygments_lexer": "ipython3",
   "version": "3.9.12"
  }
 },
 "nbformat": 4,
 "nbformat_minor": 1
}
