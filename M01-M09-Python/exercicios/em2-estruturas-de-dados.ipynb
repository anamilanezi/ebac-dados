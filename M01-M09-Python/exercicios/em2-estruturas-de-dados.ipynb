{
  "nbformat": 4,
  "nbformat_minor": 0,
  "metadata": {
    "colab": {
      "name": "module_2_exercise.ipynb",
      "provenance": [],
      "collapsed_sections": [],
      "authorship_tag": "ABX9TyPj3unN0PysHXsfctlepucr",
      "include_colab_link": true
    },
    "kernelspec": {
      "name": "python3",
      "display_name": "Python 3"
    },
    "language_info": {
      "name": "python"
    }
  },
  "cells": [
    {
      "cell_type": "markdown",
      "metadata": {
        "id": "view-in-github",
        "colab_type": "text"
      },
      "source": [
        "<a href=\"https://colab.research.google.com/github/anamilanezi/ebac-dados/blob/main/module_2_exercise.ipynb\" target=\"_parent\"><img src=\"https://colab.research.google.com/assets/colab-badge.svg\" alt=\"Open In Colab\"/></a>"
      ]
    },
    {
      "cell_type": "markdown",
      "source": [
        "\n",
        "\n",
        "---\n",
        "\n",
        "\n",
        "# **Módulo 02** | 🐍 Python: Estrutura de Dados\n",
        "📝 Caderno de **Exercícios**<br>\n",
        "Aluna: Ana Carolina Medeiros Milanezi\n",
        "\n",
        "\n",
        "---\n",
        "\n",
        "# **Tópicos**\n",
        "1. Listas;\n",
        "2. Conjuntos;\n",
        "3. Dicionários.\n",
        "\n",
        "---\n",
        "\n",
        "# **Exercícios**\n",
        "\n",
        "## 1. Listas\n",
        "Crie uma lista chamada `filmes` com o nome dos 10 primeiros filmes mais bem avaliados no site IMDB. Imprima o resultado.\n",
        "\n"
      ],
      "metadata": {
        "id": "29rQ_3lG6Gxe"
      }
    },
    {
      "cell_type": "code",
      "execution_count": 1,
      "metadata": {
        "colab": {
          "base_uri": "https://localhost:8080/"
        },
        "id": "0AHr73hL5_2C",
        "outputId": "cef0bd2c-7550-44b4-c834-8a28e8dba59d"
      },
      "outputs": [
        {
          "output_type": "stream",
          "name": "stdout",
          "text": [
            "['Um Sonho de Liberdade', 'O Poderoso Chefão', 'Batman: O Cavaleiro das Trevas', 'O Poderoso Chefão II', '12 Homens e uma Sentença', 'A Lista de Schindler', 'O Senhor dos Anéis: O Retorno do Rei', 'Pulp Fiction: Tempo de Violência', 'O Senhor dos Anéis: A Sociedade do Anel', 'Três Homens em Conflito']\n",
            "10\n"
          ]
        }
      ],
      "source": [
        "filmes = ['Um Sonho de Liberdade', 'O Poderoso Chefão',  'Batman: O Cavaleiro das Trevas', 'O Poderoso Chefão II', '12 Homens e uma Sentença', 'A Lista de Schindler', 'O Senhor dos Anéis: O Retorno do Rei', 'Pulp Fiction: Tempo de Violência', 'O Senhor dos Anéis: A Sociedade do Anel',  'Três Homens em Conflito']\n",
        "\n",
        "print(filmes)\n",
        "print(len(filmes))\n"
      ]
    },
    {
      "cell_type": "markdown",
      "source": [
        "Simule a movimentação do *ranking*. Utilize os métodos `insert` e `pop` para trocar a posição do primeiro e do segundo filme da lista. Imprima o resultado."
      ],
      "metadata": {
        "id": "qsbRhagY75pS"
      }
    },
    {
      "cell_type": "code",
      "source": [
        "# Atribui valor do filme na primeira posição a variável primeiro\n",
        "primeiro = filmes.pop(0)\n",
        "\n",
        "# Segunda posição agora passa a ser a primeira\n",
        "print(filmes)\n",
        "\n",
        "# Insere o filme que estava em primeiro na segunda posição da lista (índice 1)\n",
        "filmes.insert(1, primeiro)\n",
        "print(filmes)"
      ],
      "metadata": {
        "colab": {
          "base_uri": "https://localhost:8080/"
        },
        "id": "GGfbbSbS783t",
        "outputId": "a61269cb-9636-4bf5-b04f-8a23e4a236b0"
      },
      "execution_count": 2,
      "outputs": [
        {
          "output_type": "stream",
          "name": "stdout",
          "text": [
            "['O Poderoso Chefão', 'Batman: O Cavaleiro das Trevas', 'O Poderoso Chefão II', '12 Homens e uma Sentença', 'A Lista de Schindler', 'O Senhor dos Anéis: O Retorno do Rei', 'Pulp Fiction: Tempo de Violência', 'O Senhor dos Anéis: A Sociedade do Anel', 'Três Homens em Conflito']\n",
            "['O Poderoso Chefão', 'Um Sonho de Liberdade', 'Batman: O Cavaleiro das Trevas', 'O Poderoso Chefão II', '12 Homens e uma Sentença', 'A Lista de Schindler', 'O Senhor dos Anéis: O Retorno do Rei', 'Pulp Fiction: Tempo de Violência', 'O Senhor dos Anéis: A Sociedade do Anel', 'Três Homens em Conflito']\n"
          ]
        }
      ]
    },
    {
      "cell_type": "markdown",
      "source": [
        "## 2. Conjuntos\n",
        "Aconteceu um erro no seu *ranking*. Simule a duplicação dos três últimos filmes da lista. Imprima o resultado."
      ],
      "metadata": {
        "id": "Zd9ncXnSPvcf"
      }
    },
    {
      "cell_type": "code",
      "source": [
        "filmes.append(filmes[7])\n",
        "filmes.append(filmes[8])\n",
        "filmes.append(filmes[9])\n",
        "print(filmes)\n",
        "print(len(filmes))"
      ],
      "metadata": {
        "colab": {
          "base_uri": "https://localhost:8080/"
        },
        "id": "IYssP8loQCBK",
        "outputId": "b7f36a94-e74a-4e39-90c2-85125a2d0742"
      },
      "execution_count": 3,
      "outputs": [
        {
          "output_type": "stream",
          "name": "stdout",
          "text": [
            "['O Poderoso Chefão', 'Um Sonho de Liberdade', 'Batman: O Cavaleiro das Trevas', 'O Poderoso Chefão II', '12 Homens e uma Sentença', 'A Lista de Schindler', 'O Senhor dos Anéis: O Retorno do Rei', 'Pulp Fiction: Tempo de Violência', 'O Senhor dos Anéis: A Sociedade do Anel', 'Três Homens em Conflito', 'Pulp Fiction: Tempo de Violência', 'O Senhor dos Anéis: A Sociedade do Anel', 'Três Homens em Conflito']\n",
            "13\n"
          ]
        }
      ]
    },
    {
      "cell_type": "markdown",
      "source": [
        "Utilize a conversão `set` e `list` para remover os valores duplicados. Imprima o resultado."
      ],
      "metadata": {
        "id": "WhKi9W9VSRs9"
      }
    },
    {
      "cell_type": "code",
      "source": [
        "# Transformar a lista em conjunto com set\n",
        "conjunto_filmes = set(filmes)\n",
        "print(conjunto_filmes)\n",
        "print(type(conjunto_filmes))\n",
        "\n",
        "# Transformar o conjunto em lista com list\n",
        "nova_lista_filmes = list(conjunto_filmes)\n",
        "\n",
        "print(nova_lista_filmes)\n",
        "print(type(nova_lista_filmes))\n",
        "\n",
        "# Fazer a conversao direta mantendo a ordem original dos elementos\n",
        "filmes_em_ordem = sorted(set(filmes), key=filmes.index)\n",
        "print(filmes_em_ordem)\n",
        "print(type(filmes_em_ordem))\n",
        "\n"
      ],
      "metadata": {
        "colab": {
          "base_uri": "https://localhost:8080/"
        },
        "id": "Y1Kakl7USZn_",
        "outputId": "549deef4-5157-44f3-f540-d9d399a353f0"
      },
      "execution_count": 9,
      "outputs": [
        {
          "output_type": "stream",
          "name": "stdout",
          "text": [
            "{'12 Homens e uma Sentença', 'O Senhor dos Anéis: O Retorno do Rei', 'Pulp Fiction: Tempo de Violência', 'Três Homens em Conflito', 'O Poderoso Chefão', 'Batman: O Cavaleiro das Trevas', 'A Lista de Schindler', 'O Senhor dos Anéis: A Sociedade do Anel', 'Um Sonho de Liberdade', 'O Poderoso Chefão II'}\n",
            "<class 'set'>\n",
            "['12 Homens e uma Sentença', 'O Senhor dos Anéis: O Retorno do Rei', 'Pulp Fiction: Tempo de Violência', 'Três Homens em Conflito', 'O Poderoso Chefão', 'Batman: O Cavaleiro das Trevas', 'A Lista de Schindler', 'O Senhor dos Anéis: A Sociedade do Anel', 'Um Sonho de Liberdade', 'O Poderoso Chefão II']\n",
            "<class 'list'>\n",
            "['O Poderoso Chefão', 'Um Sonho de Liberdade', 'Batman: O Cavaleiro das Trevas', 'O Poderoso Chefão II', '12 Homens e uma Sentença', 'A Lista de Schindler', 'O Senhor dos Anéis: O Retorno do Rei', 'Pulp Fiction: Tempo de Violência', 'O Senhor dos Anéis: A Sociedade do Anel', 'Três Homens em Conflito']\n",
            "10\n",
            "<class 'list'>\n"
          ]
        }
      ]
    },
    {
      "cell_type": "markdown",
      "source": [
        "##3. Dicionários\n",
        "\n",
        "Repita os exercícios da parte 1 (lista). Os elementos da lista `filmes` devem ser dicionários no seguinte formato: `{ 'nome': <nome-do-filme>, 'ano': <ano do filme>, 'sinopse': <sinopse do filme>} `"
      ],
      "metadata": {
        "id": "9TLhK6hDVcS0"
      }
    },
    {
      "cell_type": "code",
      "source": [
        "top_01 = {\n",
        "    'nome': 'Um Sonho de Liberdade',\n",
        "    'ano': 1994,\n",
        "    'sinopse': 'Dois homens presos se reúnem ao longo de vários anos, encontrando consolo e eventual redenção através de atos de decência comum.'\n",
        "}\n",
        "\n",
        "top_02 = {\n",
        "    'nome': 'O Poderoso Chefão',\n",
        "    'ano': 1972,\n",
        "    'sinopse': 'O patriarca idoso de uma dinastia do crime organizado transfere o controle de seu império clandestino para seu filho relutante.',\n",
        "}\n",
        "\n",
        "top_03 = {\n",
        "    'nome': ' Batman: O Cavaleiro das Trevas',\n",
        "    'ano': 2008,\n",
        "    'sinopse': 'Quando a ameaça conhecida como O Coringa surge de seu passado, causa estragos e caos nas pessoas de Gotham. O Cavaleiro das Trevas deve aceitar um dos maiores testes para combater a injustiça.',\n",
        "}\n",
        "\n",
        "top_04 = {\n",
        "    'nome': 'O Poderoso Chefão II',\n",
        "    'ano': 1974,\n",
        "    'sinopse': 'Em 1950, Michael Corleone, agora à frente da família, tenta expandir o negócio do crime a Las Vegas, Los Angeles e Cuba. Paralelamente, é revelada a história de Vito Corleone, e de como saiu da Sicília e chegou a Nova Iorque.'\n",
        "}\n",
        "\n",
        "top_05 = {\n",
        "    'nome': '12 Homens e uma Sentença',\n",
        "    'ano': 1957,\n",
        "    'sinopse': 'Um jurado que se aposenta tenta evitar um erro judicial forçando seus colegas a reconsiderarem as evidências.',\n",
        "}\n",
        "\n",
        "top_06 = {\n",
        "    'nome': 'A Lista de Schindler',\n",
        "    'ano': 1993,\n",
        "    'sinopse': 'Depois de testemunhar a perseguição dos judaicos na Polônia ocupada pelos alemães durante a Segunda Guerra Mundial, o industrial Oskar Schindler se começa a preocupar com sua força de trabalho judaica.',\n",
        "}\n",
        "\n",
        "top_07 = {\n",
        "    'nome': 'O Senhor dos Anéis: O Retorno do Rei',\n",
        "    'ano': 2003,\n",
        "    'sinopse': 'Gandalf e Aragorn lideram o Mundo dos Homens contra o exército de Sauron para desviar o olhar de Frodo e Sam quando eles se aproximam á Montanha da Perdição com o Um Anel.',\n",
        "}\n",
        "\n",
        "top_08 = {\n",
        "    'nome': 'Pulp Fiction: Tempo de Violência',\n",
        "    'ano': 1994,\n",
        "    'sinopse': 'As vidas de dois assassinos da máfia, um boxeador, um gângster e sua esposa, e um par de bandidos se entrelaçam em quatro histórias de violência e redenção.'\n",
        "}\n",
        "\n",
        "top_09 = {\n",
        "    'nome': 'O Senhor dos Anéis: A Sociedade do Anel',\n",
        "    'ano': 2001,\n",
        "    'sinopse': 'Um manso hobbit do Condado e oito companheiros partem em uma jornada para destruir o poderoso Um Anel e salvar a Terra-média das Trevas.',\n",
        "}\n",
        "\n",
        "\n",
        "top_10 = {\n",
        "    'nome': 'Três Homens em Conflito',\n",
        "    'ano': 1966,\n",
        "    'sinopse': 'Um impostor se junta com dois homens para encontrar fortuna num remoto cemitério.',\n",
        "}\n",
        "\n",
        "filmes = [top_01, top_02, top_03, top_04, top_05, top_06, top_07, top_08, top_09, top_10]\n",
        "print(filmes)\n",
        "\n",
        "\n"
      ],
      "metadata": {
        "colab": {
          "base_uri": "https://localhost:8080/"
        },
        "id": "umc2Z9LUWWbP",
        "outputId": "e4b7a9d4-a8e3-411e-94fb-e24ab7a94a40"
      },
      "execution_count": 13,
      "outputs": [
        {
          "output_type": "stream",
          "name": "stdout",
          "text": [
            "[{'nome': 'Um Sonho de Liberdade', 'ano': 1994, 'sinopse': 'Dois homens presos se reúnem ao longo de vários anos, encontrando consolo e eventual redenção através de atos de decência comum.'}, {'nome': 'O Poderoso Chefão', 'ano': 1972, 'sinopse': 'O patriarca idoso de uma dinastia do crime organizado transfere o controle de seu império clandestino para seu filho relutante.'}, {'nome': ' Batman: O Cavaleiro das Trevas', 'ano': 2008, 'sinopse': 'Quando a ameaça conhecida como O Coringa surge de seu passado, causa estragos e caos nas pessoas de Gotham. O Cavaleiro das Trevas deve aceitar um dos maiores testes para combater a injustiça.'}, {'nome': 'O Poderoso Chefão II', 'ano': 1974, 'sinopse': 'Em 1950, Michael Corleone, agora à frente da família, tenta expandir o negócio do crime a Las Vegas, Los Angeles e Cuba. Paralelamente, é revelada a história de Vito Corleone, e de como saiu da Sicília e chegou a Nova Iorque.'}, {'nome': '12 Homens e uma Sentença', 'ano': 1957, 'sinopse': 'Um jurado que se aposenta tenta evitar um erro judicial forçando seus colegas a reconsiderarem as evidências.'}, {'nome': 'A Lista de Schindler', 'ano': 1993, 'sinopse': 'Depois de testemunhar a perseguição dos judaicos na Polônia ocupada pelos alemães durante a Segunda Guerra Mundial, o industrial Oskar Schindler se começa a preocupar com sua força de trabalho judaica.'}, {'nome': 'O Senhor dos Anéis: O Retorno do Rei', 'ano': 2003, 'sinopse': 'Gandalf e Aragorn lideram o Mundo dos Homens contra o exército de Sauron para desviar o olhar de Frodo e Sam quando eles se aproximam á Montanha da Perdição com o Um Anel.'}, {'nome': 'Pulp Fiction: Tempo de Violência', 'ano': 1994, 'sinopse': 'As vidas de dois assassinos da máfia, um boxeador, um gângster e sua esposa, e um par de bandidos se entrelaçam em quatro histórias de violência e redenção.'}, {'nome': 'O Senhor dos Anéis: A Sociedade do Anel', 'ano': 2001, 'sinopse': 'Um manso hobbit do Condado e oito companheiros partem em uma jornada para destruir o poderoso Um Anel e salvar a Terra-média das Trevas.'}, {'nome': 'Três Homens em Conflito', 'ano': 1966, 'sinopse': 'Um impostor se junta com dois homens para encontrar fortuna num remoto cemitério.'}]\n"
          ]
        }
      ]
    }
  ]
}