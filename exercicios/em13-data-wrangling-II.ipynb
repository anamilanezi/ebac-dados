{
  "nbformat": 4,
  "nbformat_minor": 0,
  "metadata": {
    "colab": {
      "name": "module_13_exercise.ipynb",
      "provenance": [],
      "collapsed_sections": [],
      "include_colab_link": true
    },
    "kernelspec": {
      "name": "python3",
      "display_name": "Python 3"
    }
  },
  "cells": [
    {
      "cell_type": "markdown",
      "metadata": {
        "id": "view-in-github",
        "colab_type": "text"
      },
      "source": [
        "<a href=\"https://colab.research.google.com/github/anamilanezi/ebac-dados/blob/main/exercicios/em13-data-wrangling-II.ipynb\" target=\"_parent\"><img src=\"https://colab.research.google.com/assets/colab-badge.svg\" alt=\"Open In Colab\"/></a>"
      ]
    },
    {
      "cell_type": "markdown",
      "metadata": {
        "id": "KJqp9AANOCtf"
      },
      "source": [
        "<img src=\"https://raw.githubusercontent.com/andre-marcos-perez/ebac-course-utils/main/media/logo/newebac_logo_black_half.png\" alt=\"ebac-logo\">\n",
        "\n",
        "---\n",
        "\n",
        "# **Módulo** | Análise de Dados: Data Wrangling II\n",
        "Caderno de **Exercícios**<br> \n",
        "Professor [André Perez](https://www.linkedin.com/in/andremarcosperez/)\n",
        "\n",
        "---"
      ]
    },
    {
      "cell_type": "markdown",
      "metadata": {
        "id": "d9jDtUbDOE1-"
      },
      "source": [
        "# **Tópicos**\n",
        "\n",
        "<ol type=\"1\">\n",
        "  <li>Agregação e Ordenação;</li>\n",
        "  <li>Combinação;</li>\n",
        "  <li>Técnicas Avançadas.</li>\n",
        "</ol>"
      ]
    },
    {
      "cell_type": "markdown",
      "metadata": {
        "id": "SmoHgt-lwkpD"
      },
      "source": [
        "---"
      ]
    },
    {
      "cell_type": "markdown",
      "metadata": {
        "id": "GABI6OW8OfQ2"
      },
      "source": [
        "# **Exercícios**"
      ]
    },
    {
      "cell_type": "markdown",
      "metadata": {
        "id": "45DbYPgFhuR7"
      },
      "source": [
        "Neste exercícios, vamos trabalhar com dados geográficos, demográficos e econômicos do Brasil. Vamos manipular e combinar dados de duas frentes distintas para poder responder perguntas de negócios."
      ]
    },
    {
      "cell_type": "markdown",
      "metadata": {
        "id": "GWgNoJN8DHyY"
      },
      "source": [
        "## 1\\. Data Wrangling"
      ]
    },
    {
      "cell_type": "markdown",
      "metadata": {
        "id": "E30KnCdKRdYl"
      },
      "source": [
        "### **1.1. Estados** "
      ]
    },
    {
      "cell_type": "markdown",
      "metadata": {
        "id": "w2q1apyNYHbu"
      },
      "source": [
        "O arquivo `estados-bruto.xml` contém informações sobre estados (nome, sigla e região). **Carregue-o na máquina virtual do Google Colab**. Um arquivo do tipo XML é similar a um arquivo do tipo HTML, exemplo do estado do Acre:"
      ]
    },
    {
      "cell_type": "markdown",
      "metadata": {
        "id": "GzjE2aEyYW5A"
      },
      "source": [
        "```xml\n",
        "<ESTADO>\n",
        "  <ID>1</ID>\n",
        "  <NOME>ACRE</NOME>\n",
        "  <IDCAPITAL>16</IDCAPITAL>\n",
        "  <SIGLA>AC</SIGLA>\n",
        "  <REGIAO>NORTE</REGIAO>\n",
        "</ESTADO>\n",
        "```"
      ]
    },
    {
      "cell_type": "markdown",
      "metadata": {
        "id": "7Mtk7Dd9UHqg"
      },
      "source": [
        "Utilize o pacote Python `beautifulsoup4` para extrair os dados do arquivo `estados-bruto.xml` providenciado. Salve os dados extraidos no arquivo `estados-limpo.csv` separado por `;`. Exemplo das três primeiras linhas mais o cabeçalho:\n",
        "\n",
        "```\n",
        "estado;sigla;regiao\n",
        "ACRE;AC;NORTE\n",
        "ALAGOAS;AL;NORDESTE\n",
        "AMAPA;AP;NORTE\n",
        "```\n",
        "\n",
        "**Dica**: Utilize o parser de xml chamado `lxml` do `beautifulsoup4`."
      ]
    },
    {
      "cell_type": "code",
      "metadata": {
        "id": "kz0ZyYI0Sg6P"
      },
      "source": [
        "# ler o arquivo estados-bruto.xml, utilize o xml parser chamado lxml\n",
        "\n",
        "from bs4 import BeautifulSoup\n",
        "\n",
        "NOME_ARQUIVO_FONTE = 'estados-bruto.xml'\n",
        "\n",
        "with open(NOME_ARQUIVO_FONTE) as xml:\n",
        "  fonte = BeautifulSoup(xml, \"lxml\")\n"
      ],
      "execution_count": 1,
      "outputs": []
    },
    {
      "cell_type": "code",
      "metadata": {
        "id": "rB0u2NjEXhDo",
        "colab": {
          "base_uri": "https://localhost:8080/"
        },
        "outputId": "01e1eef6-cd32-49df-b887-be37e5a0799a"
      },
      "source": [
        "# visualize os resultados\n",
        "\n",
        "fonte"
      ],
      "execution_count": 2,
      "outputs": [
        {
          "output_type": "execute_result",
          "data": {
            "text/plain": [
              "<?xml version=\"1.0\" encoding=\"utf-8\" ?><html><body><estados>\n",
              "<estado>\n",
              "<id>1</id>\n",
              "<nome>ACRE</nome>\n",
              "<idcapital>16</idcapital>\n",
              "<sigla>AC</sigla>\n",
              "<regiao>NORTE</regiao>\n",
              "</estado>\n",
              "<estado>\n",
              "<id>2</id>\n",
              "<nome>ALAGOAS</nome>\n",
              "<idcapital>68</idcapital>\n",
              "<sigla>AL</sigla>\n",
              "<regiao>NORDESTE</regiao>\n",
              "</estado>\n",
              "<estado>\n",
              "<id>3</id>\n",
              "<nome>AMAPA</nome>\n",
              "<idcapital>131</idcapital>\n",
              "<sigla>AP</sigla>\n",
              "<regiao>NORTE</regiao>\n",
              "</estado>\n",
              "<estado>\n",
              "<id>4</id>\n",
              "<nome>AMAZONAS</nome>\n",
              "<idcapital>178</idcapital>\n",
              "<sigla>AM</sigla>\n",
              "<regiao>NORTE</regiao>\n",
              "</estado>\n",
              "<estado>\n",
              "<id>5</id>\n",
              "<nome>BAHIA</nome>\n",
              "<idcapital>536</idcapital>\n",
              "<sigla>BA</sigla>\n",
              "<regiao>NORDESTE</regiao>\n",
              "</estado>\n",
              "<estado>\n",
              "<id>6</id>\n",
              "<nome>CEARA</nome>\n",
              "<idcapital>676</idcapital>\n",
              "<sigla>CE</sigla>\n",
              "<regiao>NORDESTE</regiao>\n",
              "</estado>\n",
              "<estado>\n",
              "<id>7</id>\n",
              "<nome>DISTRITO FEDERAL</nome>\n",
              "<idcapital>916</idcapital>\n",
              "<sigla>DF</sigla>\n",
              "<regiao>CENTRO-OESTE</regiao>\n",
              "</estado>\n",
              "<estado>\n",
              "<id>8</id>\n",
              "<nome>ESPIRITO SANTO</nome>\n",
              "<idcapital>879</idcapital>\n",
              "<sigla>ES</sigla>\n",
              "<regiao>SUDESTE</regiao>\n",
              "</estado>\n",
              "<estado>\n",
              "<id>9</id>\n",
              "<nome>GOIAS</nome>\n",
              "<idcapital>973</idcapital>\n",
              "<sigla>GO</sigla>\n",
              "<regiao>CENTRO-OESTE</regiao>\n",
              "</estado>\n",
              "<estado>\n",
              "<id>10</id>\n",
              "<nome>MARANHAO</nome>\n",
              "<idcapital>1309</idcapital>\n",
              "<sigla>MA</sigla>\n",
              "<regiao>NORDESTE</regiao>\n",
              "</estado>\n",
              "<estado>\n",
              "<id>11</id>\n",
              "<nome>MATO GROSSO</nome>\n",
              "<idcapital>1374</idcapital>\n",
              "<sigla>MT</sigla>\n",
              "<regiao>CENTRO-OESTE</regiao>\n",
              "</estado>\n",
              "<estado>\n",
              "<id>12</id>\n",
              "<nome>MATO GROSSO DO SUL</nome>\n",
              "<idcapital>1485</idcapital>\n",
              "<sigla>MS</sigla>\n",
              "<regiao>CENTRO-OESTE</regiao>\n",
              "</estado>\n",
              "<estado>\n",
              "<id>13</id>\n",
              "<nome>PARA</nome>\n",
              "<idcapital>1561</idcapital>\n",
              "<sigla>PA</sigla>\n",
              "<regiao>NORTE</regiao>\n",
              "</estado>\n",
              "<estado>\n",
              "<id>14</id>\n",
              "<nome>PARAIBA</nome>\n",
              "<idcapital>1779</idcapital>\n",
              "<sigla>PB</sigla>\n",
              "<regiao>NORDESTE</regiao>\n",
              "</estado>\n",
              "<estado>\n",
              "<id>15</id>\n",
              "<nome>PARANA</nome>\n",
              "<idcapital>2002</idcapital>\n",
              "<sigla>PR</sigla>\n",
              "<regiao>SUL</regiao>\n",
              "</estado>\n",
              "<estado>\n",
              "<id>16</id>\n",
              "<nome>PERNAMBUCO</nome>\n",
              "<idcapital>2439</idcapital>\n",
              "<sigla>PE</sigla>\n",
              "<regiao>NORDESTE</regiao>\n",
              "</estado>\n",
              "<estado>\n",
              "<id>17</id>\n",
              "<nome>PIAUI</nome>\n",
              "<idcapital>2704</idcapital>\n",
              "<sigla>PI</sigla>\n",
              "<regiao>NORDESTE</regiao>\n",
              "</estado>\n",
              "<estado>\n",
              "<id>18</id>\n",
              "<nome>RIO DE JANEIRO</nome>\n",
              "<idcapital>2779</idcapital>\n",
              "<sigla>RJ</sigla>\n",
              "<regiao>SUDESTE</regiao>\n",
              "</estado>\n",
              "<estado>\n",
              "<id>19</id>\n",
              "<nome>RIO GRANDE DO NORTE</nome>\n",
              "<idcapital>2890</idcapital>\n",
              "<sigla>RN</sigla>\n",
              "<regiao>NORDESTE</regiao>\n",
              "</estado>\n",
              "<estado>\n",
              "<id>20</id>\n",
              "<nome>RIO GRANDE DO SUL</nome>\n",
              "<idcapital>3273</idcapital>\n",
              "<sigla>RS</sigla>\n",
              "<regiao>SUL</regiao>\n",
              "</estado>\n",
              "<estado>\n",
              "<id>21</id>\n",
              "<nome>RONDONIA</nome>\n",
              "<idcapital>3473</idcapital>\n",
              "<sigla>RO</sigla>\n",
              "<regiao>NORTE</regiao>\n",
              "</estado>\n",
              "<estado>\n",
              "<id>22</id>\n",
              "<nome>RORAIMA</nome>\n",
              "<idcapital>3491</idcapital>\n",
              "<sigla>RR</sigla>\n",
              "<regiao>NORTE</regiao>\n",
              "</estado>\n",
              "<estado>\n",
              "<id>23</id>\n",
              "<nome>SANTA CATARINA</nome>\n",
              "<idcapital>3591</idcapital>\n",
              "<sigla>SC</sigla>\n",
              "<regiao>SUL</regiao>\n",
              "</estado>\n",
              "<estado>\n",
              "<id>24</id>\n",
              "<nome>SAO PAULO</nome>\n",
              "<idcapital>4361</idcapital>\n",
              "<sigla>SP</sigla>\n",
              "<regiao>SUDESTE</regiao>\n",
              "</estado>\n",
              "<estado>\n",
              "<id>25</id>\n",
              "<nome>SERGIPE</nome>\n",
              "<idcapital>4444</idcapital>\n",
              "<sigla>SE</sigla>\n",
              "<regiao>NORDESTE</regiao>\n",
              "</estado>\n",
              "<estado>\n",
              "<id>26</id>\n",
              "<nome>TOCANTINS</nome>\n",
              "<idcapital>4606</idcapital>\n",
              "<sigla>TO</sigla>\n",
              "<regiao>NORTE</regiao>\n",
              "</estado>\n",
              "<estado>\n",
              "<id>27</id>\n",
              "<nome>MINAS GERAIS</nome>\n",
              "<idcapital>4790</idcapital>\n",
              "<sigla>MG</sigla>\n",
              "<regiao>SUDESTE</regiao>\n",
              "</estado>\n",
              "</estados>\n",
              "</body></html>"
            ]
          },
          "metadata": {},
          "execution_count": 2
        }
      ]
    },
    {
      "cell_type": "code",
      "metadata": {
        "id": "6mos3LTVXrzV"
      },
      "source": [
        "# manipule os dados\n",
        "estados = fonte.find_all(\"nome\")\n",
        "estados = [estado.string for estado in estados]\n",
        "\n",
        "siglas = fonte.find_all(\"sigla\")\n",
        "siglas = [sigla.string for sigla in siglas]\n",
        "\n",
        "regioes = fonte.find_all(\"regiao\")\n",
        "regioes = [regiao.string for regiao in regioes]"
      ],
      "execution_count": 3,
      "outputs": []
    },
    {
      "cell_type": "code",
      "source": [
        "print(estados)\n",
        "print(siglas)\n",
        "print(regioes)"
      ],
      "metadata": {
        "colab": {
          "base_uri": "https://localhost:8080/"
        },
        "id": "_albk-jRQ04f",
        "outputId": "a1714579-58f8-4f13-ce6f-6990b6352732"
      },
      "execution_count": 4,
      "outputs": [
        {
          "output_type": "stream",
          "name": "stdout",
          "text": [
            "['ACRE', 'ALAGOAS', 'AMAPA', 'AMAZONAS', 'BAHIA', 'CEARA', 'DISTRITO FEDERAL', 'ESPIRITO SANTO', 'GOIAS', 'MARANHAO', 'MATO GROSSO', 'MATO GROSSO DO SUL', 'PARA', 'PARAIBA', 'PARANA', 'PERNAMBUCO', 'PIAUI', 'RIO DE JANEIRO', 'RIO GRANDE DO NORTE', 'RIO GRANDE DO SUL', 'RONDONIA', 'RORAIMA', 'SANTA CATARINA', 'SAO PAULO', 'SERGIPE', 'TOCANTINS', 'MINAS GERAIS']\n",
            "['AC', 'AL', 'AP', 'AM', 'BA', 'CE', 'DF', 'ES', 'GO', 'MA', 'MT', 'MS', 'PA', 'PB', 'PR', 'PE', 'PI', 'RJ', 'RN', 'RS', 'RO', 'RR', 'SC', 'SP', 'SE', 'TO', 'MG']\n",
            "['NORTE', 'NORDESTE', 'NORTE', 'NORTE', 'NORDESTE', 'NORDESTE', 'CENTRO-OESTE', 'SUDESTE', 'CENTRO-OESTE', 'NORDESTE', 'CENTRO-OESTE', 'CENTRO-OESTE', 'NORTE', 'NORDESTE', 'SUL', 'NORDESTE', 'NORDESTE', 'SUDESTE', 'NORDESTE', 'SUL', 'NORTE', 'NORTE', 'SUL', 'SUDESTE', 'NORDESTE', 'NORTE', 'SUDESTE']\n"
          ]
        }
      ]
    },
    {
      "cell_type": "code",
      "metadata": {
        "id": "9yCma_LASxFg"
      },
      "source": [
        "# escrever o conteudo extraido no arquivo estados-limpo.csv separados por ;\n",
        "import pandas as pd\n",
        "\n",
        "NOME_ARQUIVO_DESTINO = 'estados-limpo.csv'\n",
        "\n",
        "estados_dic = {\n",
        "    \"estado\": estados,\n",
        "    \"sigla\": siglas,\n",
        "    \"regiao\": regioes,\n",
        "}\n",
        "estados_df = pd.DataFrame(estados_dic)\n",
        "\n",
        "estados_df.to_csv(NOME_ARQUIVO_DESTINO, index=False, sep=\";\")\n"
      ],
      "execution_count": 41,
      "outputs": []
    },
    {
      "cell_type": "markdown",
      "metadata": {
        "id": "Fq0xqYYSYq92"
      },
      "source": [
        "### **1.2. Cidades** "
      ]
    },
    {
      "cell_type": "markdown",
      "metadata": {
        "id": "eWRbjhOQYq93"
      },
      "source": [
        "O arquivo `cidades-bruto.csv` contém informações demográficas e socioeconomicas das cidades do Brasil. **Carregue-o na máquina virtual do Google Colab**. Utilize o pacote Python `pandas` para extrair os dados do arquivo `cidades-bruto.xml` providenciado. Seguindo as seguintes especificações:"
      ]
    },
    {
      "cell_type": "markdown",
      "metadata": {
        "id": "76zW8sMsbhEu"
      },
      "source": [
        "1. Apenas dados do censo de 2010;\n",
        "1. Apenas as colunas UF, Nome, PIB, Pop_est_2009 e PIB_percapita."
      ]
    },
    {
      "cell_type": "markdown",
      "metadata": {
        "id": "auiIxlw-blp8"
      },
      "source": [
        "Salve os dados extraidos no arquivo `cidades-limpo.csv` separado por `;`. Exemplo das três primeiras linhas mais o cabeçalho:\n",
        "\n",
        "```\n",
        "estado;cidade;populacao;pib;pib_percapita\n",
        "BAHIA;TREMEDAL;18433;57883.9921875;3140.23999023\n",
        "RIO GRANDE DO SUL;TURUÇU;4000;45723875;11430.96972656\n",
        "ESPIRITO SANTO;VITÓRIA;320156;19782628;61790.58984375\n",
        "```"
      ]
    },
    {
      "cell_type": "code",
      "metadata": {
        "id": "nBmWOkvzYq94"
      },
      "source": [
        "# ler o arquivo cidades-bruto.csv\n",
        "\n",
        "import pandas as pd\n",
        "\n",
        "NOME_ARQUIVO_FONTE = 'cidades-bruto.csv'\n",
        "\n",
        "fonte = pd.read_csv(NOME_ARQUIVO_FONTE)"
      ],
      "execution_count": 6,
      "outputs": []
    },
    {
      "cell_type": "code",
      "metadata": {
        "id": "2NKpI4h9Yq95",
        "colab": {
          "base_uri": "https://localhost:8080/",
          "height": 531
        },
        "outputId": "5ddd061b-387b-4989-f999-79a98dffb32c"
      },
      "source": [
        "# visualize os resultados\n",
        "fonte.head()"
      ],
      "execution_count": 39,
      "outputs": [
        {
          "output_type": "execute_result",
          "data": {
            "text/plain": [
              "                                               FID   gid                 UF  \\\n",
              "0  vw_pib_percapita.fid-4514e25a_17aaa325034_-258f   215              BAHIA   \n",
              "1  vw_pib_percapita.fid-4514e25a_17aaa325034_-258e   306  RIO GRANDE DO SUL   \n",
              "2  vw_pib_percapita.fid-4514e25a_17aaa325034_-258d   900     ESPIRITO SANTO   \n",
              "3  vw_pib_percapita.fid-4514e25a_17aaa325034_-258c  3613       MINAS GERAIS   \n",
              "4  vw_pib_percapita.fid-4514e25a_17aaa325034_-258b  1028              PIAUÍ   \n",
              "\n",
              "        nome   Censo           PIB  Pop_est_2009  PIB_percapita  \\\n",
              "0   Tremedal  2010.0  5.788399e+04         18433    3140.239990   \n",
              "1     Turuçu  2010.0  4.572388e+04          4000   11430.969727   \n",
              "2    Vitória  2010.0  1.978263e+07        320156   61790.589844   \n",
              "3  Jacutinga  2010.0  2.478160e+05         21424   11567.209961   \n",
              "4    Nazária  2010.0  2.095138e+04          7895    2653.750000   \n",
              "\n",
              "                          Descrição               legenda  classe  \\\n",
              "0  Produto Interno Bruto per capita             - 9639.65       1   \n",
              "1  Produto Interno Bruto per capita    9639.65 - 22144.80       2   \n",
              "2  Produto Interno Bruto per capita  52702.10 - 133669.00       4   \n",
              "3  Produto Interno Bruto per capita    9639.65 - 22144.80       2   \n",
              "4  Produto Interno Bruto per capita             - 9639.65       1   \n",
              "\n",
              "                                                geom  \n",
              "0  MULTIPOLYGON (((-41.458803305191566 -14.781415...  \n",
              "1  MULTIPOLYGON (((-52.035349932081274 -31.567509...  \n",
              "2  MULTIPOLYGON (((-40.3292566978242 -20.23997417...  \n",
              "3  MULTIPOLYGON (((-46.50528160015326 -22.3400120...  \n",
              "4  POLYGON ((-42.826685407155495 -5.3480291684437...  "
            ],
            "text/html": [
              "\n",
              "  <div id=\"df-9857dd7a-45c0-4cfc-b3ce-02a80bfc4b1f\">\n",
              "    <div class=\"colab-df-container\">\n",
              "      <div>\n",
              "<style scoped>\n",
              "    .dataframe tbody tr th:only-of-type {\n",
              "        vertical-align: middle;\n",
              "    }\n",
              "\n",
              "    .dataframe tbody tr th {\n",
              "        vertical-align: top;\n",
              "    }\n",
              "\n",
              "    .dataframe thead th {\n",
              "        text-align: right;\n",
              "    }\n",
              "</style>\n",
              "<table border=\"1\" class=\"dataframe\">\n",
              "  <thead>\n",
              "    <tr style=\"text-align: right;\">\n",
              "      <th></th>\n",
              "      <th>FID</th>\n",
              "      <th>gid</th>\n",
              "      <th>UF</th>\n",
              "      <th>nome</th>\n",
              "      <th>Censo</th>\n",
              "      <th>PIB</th>\n",
              "      <th>Pop_est_2009</th>\n",
              "      <th>PIB_percapita</th>\n",
              "      <th>Descrição</th>\n",
              "      <th>legenda</th>\n",
              "      <th>classe</th>\n",
              "      <th>geom</th>\n",
              "    </tr>\n",
              "  </thead>\n",
              "  <tbody>\n",
              "    <tr>\n",
              "      <th>0</th>\n",
              "      <td>vw_pib_percapita.fid-4514e25a_17aaa325034_-258f</td>\n",
              "      <td>215</td>\n",
              "      <td>BAHIA</td>\n",
              "      <td>Tremedal</td>\n",
              "      <td>2010.0</td>\n",
              "      <td>5.788399e+04</td>\n",
              "      <td>18433</td>\n",
              "      <td>3140.239990</td>\n",
              "      <td>Produto Interno Bruto per capita</td>\n",
              "      <td>- 9639.65</td>\n",
              "      <td>1</td>\n",
              "      <td>MULTIPOLYGON (((-41.458803305191566 -14.781415...</td>\n",
              "    </tr>\n",
              "    <tr>\n",
              "      <th>1</th>\n",
              "      <td>vw_pib_percapita.fid-4514e25a_17aaa325034_-258e</td>\n",
              "      <td>306</td>\n",
              "      <td>RIO GRANDE DO SUL</td>\n",
              "      <td>Turuçu</td>\n",
              "      <td>2010.0</td>\n",
              "      <td>4.572388e+04</td>\n",
              "      <td>4000</td>\n",
              "      <td>11430.969727</td>\n",
              "      <td>Produto Interno Bruto per capita</td>\n",
              "      <td>9639.65 - 22144.80</td>\n",
              "      <td>2</td>\n",
              "      <td>MULTIPOLYGON (((-52.035349932081274 -31.567509...</td>\n",
              "    </tr>\n",
              "    <tr>\n",
              "      <th>2</th>\n",
              "      <td>vw_pib_percapita.fid-4514e25a_17aaa325034_-258d</td>\n",
              "      <td>900</td>\n",
              "      <td>ESPIRITO SANTO</td>\n",
              "      <td>Vitória</td>\n",
              "      <td>2010.0</td>\n",
              "      <td>1.978263e+07</td>\n",
              "      <td>320156</td>\n",
              "      <td>61790.589844</td>\n",
              "      <td>Produto Interno Bruto per capita</td>\n",
              "      <td>52702.10 - 133669.00</td>\n",
              "      <td>4</td>\n",
              "      <td>MULTIPOLYGON (((-40.3292566978242 -20.23997417...</td>\n",
              "    </tr>\n",
              "    <tr>\n",
              "      <th>3</th>\n",
              "      <td>vw_pib_percapita.fid-4514e25a_17aaa325034_-258c</td>\n",
              "      <td>3613</td>\n",
              "      <td>MINAS GERAIS</td>\n",
              "      <td>Jacutinga</td>\n",
              "      <td>2010.0</td>\n",
              "      <td>2.478160e+05</td>\n",
              "      <td>21424</td>\n",
              "      <td>11567.209961</td>\n",
              "      <td>Produto Interno Bruto per capita</td>\n",
              "      <td>9639.65 - 22144.80</td>\n",
              "      <td>2</td>\n",
              "      <td>MULTIPOLYGON (((-46.50528160015326 -22.3400120...</td>\n",
              "    </tr>\n",
              "    <tr>\n",
              "      <th>4</th>\n",
              "      <td>vw_pib_percapita.fid-4514e25a_17aaa325034_-258b</td>\n",
              "      <td>1028</td>\n",
              "      <td>PIAUÍ</td>\n",
              "      <td>Nazária</td>\n",
              "      <td>2010.0</td>\n",
              "      <td>2.095138e+04</td>\n",
              "      <td>7895</td>\n",
              "      <td>2653.750000</td>\n",
              "      <td>Produto Interno Bruto per capita</td>\n",
              "      <td>- 9639.65</td>\n",
              "      <td>1</td>\n",
              "      <td>POLYGON ((-42.826685407155495 -5.3480291684437...</td>\n",
              "    </tr>\n",
              "  </tbody>\n",
              "</table>\n",
              "</div>\n",
              "      <button class=\"colab-df-convert\" onclick=\"convertToInteractive('df-9857dd7a-45c0-4cfc-b3ce-02a80bfc4b1f')\"\n",
              "              title=\"Convert this dataframe to an interactive table.\"\n",
              "              style=\"display:none;\">\n",
              "        \n",
              "  <svg xmlns=\"http://www.w3.org/2000/svg\" height=\"24px\"viewBox=\"0 0 24 24\"\n",
              "       width=\"24px\">\n",
              "    <path d=\"M0 0h24v24H0V0z\" fill=\"none\"/>\n",
              "    <path d=\"M18.56 5.44l.94 2.06.94-2.06 2.06-.94-2.06-.94-.94-2.06-.94 2.06-2.06.94zm-11 1L8.5 8.5l.94-2.06 2.06-.94-2.06-.94L8.5 2.5l-.94 2.06-2.06.94zm10 10l.94 2.06.94-2.06 2.06-.94-2.06-.94-.94-2.06-.94 2.06-2.06.94z\"/><path d=\"M17.41 7.96l-1.37-1.37c-.4-.4-.92-.59-1.43-.59-.52 0-1.04.2-1.43.59L10.3 9.45l-7.72 7.72c-.78.78-.78 2.05 0 2.83L4 21.41c.39.39.9.59 1.41.59.51 0 1.02-.2 1.41-.59l7.78-7.78 2.81-2.81c.8-.78.8-2.07 0-2.86zM5.41 20L4 18.59l7.72-7.72 1.47 1.35L5.41 20z\"/>\n",
              "  </svg>\n",
              "      </button>\n",
              "      \n",
              "  <style>\n",
              "    .colab-df-container {\n",
              "      display:flex;\n",
              "      flex-wrap:wrap;\n",
              "      gap: 12px;\n",
              "    }\n",
              "\n",
              "    .colab-df-convert {\n",
              "      background-color: #E8F0FE;\n",
              "      border: none;\n",
              "      border-radius: 50%;\n",
              "      cursor: pointer;\n",
              "      display: none;\n",
              "      fill: #1967D2;\n",
              "      height: 32px;\n",
              "      padding: 0 0 0 0;\n",
              "      width: 32px;\n",
              "    }\n",
              "\n",
              "    .colab-df-convert:hover {\n",
              "      background-color: #E2EBFA;\n",
              "      box-shadow: 0px 1px 2px rgba(60, 64, 67, 0.3), 0px 1px 3px 1px rgba(60, 64, 67, 0.15);\n",
              "      fill: #174EA6;\n",
              "    }\n",
              "\n",
              "    [theme=dark] .colab-df-convert {\n",
              "      background-color: #3B4455;\n",
              "      fill: #D2E3FC;\n",
              "    }\n",
              "\n",
              "    [theme=dark] .colab-df-convert:hover {\n",
              "      background-color: #434B5C;\n",
              "      box-shadow: 0px 1px 3px 1px rgba(0, 0, 0, 0.15);\n",
              "      filter: drop-shadow(0px 1px 2px rgba(0, 0, 0, 0.3));\n",
              "      fill: #FFFFFF;\n",
              "    }\n",
              "  </style>\n",
              "\n",
              "      <script>\n",
              "        const buttonEl =\n",
              "          document.querySelector('#df-9857dd7a-45c0-4cfc-b3ce-02a80bfc4b1f button.colab-df-convert');\n",
              "        buttonEl.style.display =\n",
              "          google.colab.kernel.accessAllowed ? 'block' : 'none';\n",
              "\n",
              "        async function convertToInteractive(key) {\n",
              "          const element = document.querySelector('#df-9857dd7a-45c0-4cfc-b3ce-02a80bfc4b1f');\n",
              "          const dataTable =\n",
              "            await google.colab.kernel.invokeFunction('convertToInteractive',\n",
              "                                                     [key], {});\n",
              "          if (!dataTable) return;\n",
              "\n",
              "          const docLinkHtml = 'Like what you see? Visit the ' +\n",
              "            '<a target=\"_blank\" href=https://colab.research.google.com/notebooks/data_table.ipynb>data table notebook</a>'\n",
              "            + ' to learn more about interactive tables.';\n",
              "          element.innerHTML = '';\n",
              "          dataTable['output_type'] = 'display_data';\n",
              "          await google.colab.output.renderOutput(dataTable, element);\n",
              "          const docLink = document.createElement('div');\n",
              "          docLink.innerHTML = docLinkHtml;\n",
              "          element.appendChild(docLink);\n",
              "        }\n",
              "      </script>\n",
              "    </div>\n",
              "  </div>\n",
              "  "
            ]
          },
          "metadata": {},
          "execution_count": 39
        }
      ]
    },
    {
      "cell_type": "code",
      "source": [
        "fonte.info()"
      ],
      "metadata": {
        "colab": {
          "base_uri": "https://localhost:8080/"
        },
        "id": "DXWuGZl7Ufaw",
        "outputId": "8b09d4a7-e6bc-427c-c593-6cb25624c3df"
      },
      "execution_count": 37,
      "outputs": [
        {
          "output_type": "stream",
          "name": "stdout",
          "text": [
            "<class 'pandas.core.frame.DataFrame'>\n",
            "RangeIndex: 5566 entries, 0 to 5565\n",
            "Data columns (total 12 columns):\n",
            " #   Column         Non-Null Count  Dtype  \n",
            "---  ------         --------------  -----  \n",
            " 0   FID            5566 non-null   object \n",
            " 1   gid            5566 non-null   int64  \n",
            " 2   UF             5566 non-null   object \n",
            " 3   nome           5565 non-null   object \n",
            " 4   Censo          5560 non-null   float64\n",
            " 5   PIB            5566 non-null   float64\n",
            " 6   Pop_est_2009   5566 non-null   int64  \n",
            " 7   PIB_percapita  5566 non-null   float64\n",
            " 8   Descrição      5566 non-null   object \n",
            " 9   legenda        5566 non-null   object \n",
            " 10  classe         5566 non-null   int64  \n",
            " 11  geom           5566 non-null   object \n",
            "dtypes: float64(3), int64(3), object(6)\n",
            "memory usage: 521.9+ KB\n"
          ]
        }
      ]
    },
    {
      "cell_type": "code",
      "source": [
        "fonte.describe().T"
      ],
      "metadata": {
        "colab": {
          "base_uri": "https://localhost:8080/",
          "height": 238
        },
        "id": "jTWjWkNmfyOo",
        "outputId": "7569d695-15ed-4788-d5bd-932478af5370"
      },
      "execution_count": 25,
      "outputs": [
        {
          "output_type": "execute_result",
          "data": {
            "text/plain": [
              "                count           mean           std          min           25%  \\\n",
              "gid            5566.0    2785.319080  1.607194e+03     1.000000   1394.250000   \n",
              "Censo          5560.0    2009.997302  8.993165e-02  2007.000000   2010.000000   \n",
              "PIB            5566.0  582020.311925  6.345809e+06  5770.282227  38428.172852   \n",
              "Pop_est_2009   5566.0   34405.572763  2.017854e+05   837.000000   5339.250000   \n",
              "PIB_percapita  5566.0   10977.027151  1.214959e+04  1929.969971   4517.802368   \n",
              "classe         5566.0       1.521380  6.711827e-01     1.000000      1.000000   \n",
              "\n",
              "                        50%            75%           max  \n",
              "gid             2785.500000    4176.750000  5.568000e+03  \n",
              "Censo           2010.000000    2010.000000  2.010000e+03  \n",
              "PIB            80591.722656  206276.042969  3.893172e+08  \n",
              "Pop_est_2009   11203.000000   23252.750000  1.103759e+07  \n",
              "PIB_percapita   8393.169922   13314.827637  3.608158e+05  \n",
              "classe             1.000000       2.000000  5.000000e+00  "
            ],
            "text/html": [
              "\n",
              "  <div id=\"df-fae4e925-0b44-4f64-85d1-3cab7e05e145\">\n",
              "    <div class=\"colab-df-container\">\n",
              "      <div>\n",
              "<style scoped>\n",
              "    .dataframe tbody tr th:only-of-type {\n",
              "        vertical-align: middle;\n",
              "    }\n",
              "\n",
              "    .dataframe tbody tr th {\n",
              "        vertical-align: top;\n",
              "    }\n",
              "\n",
              "    .dataframe thead th {\n",
              "        text-align: right;\n",
              "    }\n",
              "</style>\n",
              "<table border=\"1\" class=\"dataframe\">\n",
              "  <thead>\n",
              "    <tr style=\"text-align: right;\">\n",
              "      <th></th>\n",
              "      <th>count</th>\n",
              "      <th>mean</th>\n",
              "      <th>std</th>\n",
              "      <th>min</th>\n",
              "      <th>25%</th>\n",
              "      <th>50%</th>\n",
              "      <th>75%</th>\n",
              "      <th>max</th>\n",
              "    </tr>\n",
              "  </thead>\n",
              "  <tbody>\n",
              "    <tr>\n",
              "      <th>gid</th>\n",
              "      <td>5566.0</td>\n",
              "      <td>2785.319080</td>\n",
              "      <td>1.607194e+03</td>\n",
              "      <td>1.000000</td>\n",
              "      <td>1394.250000</td>\n",
              "      <td>2785.500000</td>\n",
              "      <td>4176.750000</td>\n",
              "      <td>5.568000e+03</td>\n",
              "    </tr>\n",
              "    <tr>\n",
              "      <th>Censo</th>\n",
              "      <td>5560.0</td>\n",
              "      <td>2009.997302</td>\n",
              "      <td>8.993165e-02</td>\n",
              "      <td>2007.000000</td>\n",
              "      <td>2010.000000</td>\n",
              "      <td>2010.000000</td>\n",
              "      <td>2010.000000</td>\n",
              "      <td>2.010000e+03</td>\n",
              "    </tr>\n",
              "    <tr>\n",
              "      <th>PIB</th>\n",
              "      <td>5566.0</td>\n",
              "      <td>582020.311925</td>\n",
              "      <td>6.345809e+06</td>\n",
              "      <td>5770.282227</td>\n",
              "      <td>38428.172852</td>\n",
              "      <td>80591.722656</td>\n",
              "      <td>206276.042969</td>\n",
              "      <td>3.893172e+08</td>\n",
              "    </tr>\n",
              "    <tr>\n",
              "      <th>Pop_est_2009</th>\n",
              "      <td>5566.0</td>\n",
              "      <td>34405.572763</td>\n",
              "      <td>2.017854e+05</td>\n",
              "      <td>837.000000</td>\n",
              "      <td>5339.250000</td>\n",
              "      <td>11203.000000</td>\n",
              "      <td>23252.750000</td>\n",
              "      <td>1.103759e+07</td>\n",
              "    </tr>\n",
              "    <tr>\n",
              "      <th>PIB_percapita</th>\n",
              "      <td>5566.0</td>\n",
              "      <td>10977.027151</td>\n",
              "      <td>1.214959e+04</td>\n",
              "      <td>1929.969971</td>\n",
              "      <td>4517.802368</td>\n",
              "      <td>8393.169922</td>\n",
              "      <td>13314.827637</td>\n",
              "      <td>3.608158e+05</td>\n",
              "    </tr>\n",
              "    <tr>\n",
              "      <th>classe</th>\n",
              "      <td>5566.0</td>\n",
              "      <td>1.521380</td>\n",
              "      <td>6.711827e-01</td>\n",
              "      <td>1.000000</td>\n",
              "      <td>1.000000</td>\n",
              "      <td>1.000000</td>\n",
              "      <td>2.000000</td>\n",
              "      <td>5.000000e+00</td>\n",
              "    </tr>\n",
              "  </tbody>\n",
              "</table>\n",
              "</div>\n",
              "      <button class=\"colab-df-convert\" onclick=\"convertToInteractive('df-fae4e925-0b44-4f64-85d1-3cab7e05e145')\"\n",
              "              title=\"Convert this dataframe to an interactive table.\"\n",
              "              style=\"display:none;\">\n",
              "        \n",
              "  <svg xmlns=\"http://www.w3.org/2000/svg\" height=\"24px\"viewBox=\"0 0 24 24\"\n",
              "       width=\"24px\">\n",
              "    <path d=\"M0 0h24v24H0V0z\" fill=\"none\"/>\n",
              "    <path d=\"M18.56 5.44l.94 2.06.94-2.06 2.06-.94-2.06-.94-.94-2.06-.94 2.06-2.06.94zm-11 1L8.5 8.5l.94-2.06 2.06-.94-2.06-.94L8.5 2.5l-.94 2.06-2.06.94zm10 10l.94 2.06.94-2.06 2.06-.94-2.06-.94-.94-2.06-.94 2.06-2.06.94z\"/><path d=\"M17.41 7.96l-1.37-1.37c-.4-.4-.92-.59-1.43-.59-.52 0-1.04.2-1.43.59L10.3 9.45l-7.72 7.72c-.78.78-.78 2.05 0 2.83L4 21.41c.39.39.9.59 1.41.59.51 0 1.02-.2 1.41-.59l7.78-7.78 2.81-2.81c.8-.78.8-2.07 0-2.86zM5.41 20L4 18.59l7.72-7.72 1.47 1.35L5.41 20z\"/>\n",
              "  </svg>\n",
              "      </button>\n",
              "      \n",
              "  <style>\n",
              "    .colab-df-container {\n",
              "      display:flex;\n",
              "      flex-wrap:wrap;\n",
              "      gap: 12px;\n",
              "    }\n",
              "\n",
              "    .colab-df-convert {\n",
              "      background-color: #E8F0FE;\n",
              "      border: none;\n",
              "      border-radius: 50%;\n",
              "      cursor: pointer;\n",
              "      display: none;\n",
              "      fill: #1967D2;\n",
              "      height: 32px;\n",
              "      padding: 0 0 0 0;\n",
              "      width: 32px;\n",
              "    }\n",
              "\n",
              "    .colab-df-convert:hover {\n",
              "      background-color: #E2EBFA;\n",
              "      box-shadow: 0px 1px 2px rgba(60, 64, 67, 0.3), 0px 1px 3px 1px rgba(60, 64, 67, 0.15);\n",
              "      fill: #174EA6;\n",
              "    }\n",
              "\n",
              "    [theme=dark] .colab-df-convert {\n",
              "      background-color: #3B4455;\n",
              "      fill: #D2E3FC;\n",
              "    }\n",
              "\n",
              "    [theme=dark] .colab-df-convert:hover {\n",
              "      background-color: #434B5C;\n",
              "      box-shadow: 0px 1px 3px 1px rgba(0, 0, 0, 0.15);\n",
              "      filter: drop-shadow(0px 1px 2px rgba(0, 0, 0, 0.3));\n",
              "      fill: #FFFFFF;\n",
              "    }\n",
              "  </style>\n",
              "\n",
              "      <script>\n",
              "        const buttonEl =\n",
              "          document.querySelector('#df-fae4e925-0b44-4f64-85d1-3cab7e05e145 button.colab-df-convert');\n",
              "        buttonEl.style.display =\n",
              "          google.colab.kernel.accessAllowed ? 'block' : 'none';\n",
              "\n",
              "        async function convertToInteractive(key) {\n",
              "          const element = document.querySelector('#df-fae4e925-0b44-4f64-85d1-3cab7e05e145');\n",
              "          const dataTable =\n",
              "            await google.colab.kernel.invokeFunction('convertToInteractive',\n",
              "                                                     [key], {});\n",
              "          if (!dataTable) return;\n",
              "\n",
              "          const docLinkHtml = 'Like what you see? Visit the ' +\n",
              "            '<a target=\"_blank\" href=https://colab.research.google.com/notebooks/data_table.ipynb>data table notebook</a>'\n",
              "            + ' to learn more about interactive tables.';\n",
              "          element.innerHTML = '';\n",
              "          dataTable['output_type'] = 'display_data';\n",
              "          await google.colab.output.renderOutput(dataTable, element);\n",
              "          const docLink = document.createElement('div');\n",
              "          docLink.innerHTML = docLinkHtml;\n",
              "          element.appendChild(docLink);\n",
              "        }\n",
              "      </script>\n",
              "    </div>\n",
              "  </div>\n",
              "  "
            ]
          },
          "metadata": {},
          "execution_count": 25
        }
      ]
    },
    {
      "cell_type": "code",
      "source": [
        "# Extraindo as colunas de interesse correspondente ao Censo de 2010\n",
        "cidades_df = fonte.query('Censo == 2010')[['UF', 'nome', 'Pop_est_2009', 'PIB', 'PIB_percapita']]"
      ],
      "metadata": {
        "id": "ZmTMd5GjWCsJ"
      },
      "execution_count": 9,
      "outputs": []
    },
    {
      "cell_type": "code",
      "source": [
        "# Renomear nome das colunas\n",
        "cidades_df = cidades_df.rename(columns={\"UF\": \"estado\", \"nome\": \"cidade\", \"Pop_est_2009\": \"populacao\", \"PIB\": \"pib\", \"PIB_percapita\": \"pib_percapita\"})"
      ],
      "metadata": {
        "id": "NYX09PLFdEW1"
      },
      "execution_count": 14,
      "outputs": []
    },
    {
      "cell_type": "code",
      "source": [
        "cidades_df.head()"
      ],
      "metadata": {
        "colab": {
          "base_uri": "https://localhost:8080/",
          "height": 206
        },
        "id": "M--v4YGEWGm0",
        "outputId": "59f6fc45-e2ed-4645-bcf4-cb27e1d2f349"
      },
      "execution_count": 211,
      "outputs": [
        {
          "output_type": "execute_result",
          "data": {
            "text/plain": [
              "              estado     cidade  populacao           pib  pib_percapita\n",
              "0              BAHIA   Tremedal      18433  5.788399e+04    3140.239990\n",
              "1  RIO GRANDE DO SUL     Turucu       4000  4.572388e+04   11430.969727\n",
              "2     ESPIRITO SANTO    Vitoria     320156  1.978263e+07   61790.589844\n",
              "3       MINAS GERAIS  Jacutinga      21424  2.478160e+05   11567.209961\n",
              "4              PIAUI    Nazaria       7895  2.095138e+04    2653.750000"
            ],
            "text/html": [
              "\n",
              "  <div id=\"df-899143f8-8e0b-48bb-adbf-795698f3506a\">\n",
              "    <div class=\"colab-df-container\">\n",
              "      <div>\n",
              "<style scoped>\n",
              "    .dataframe tbody tr th:only-of-type {\n",
              "        vertical-align: middle;\n",
              "    }\n",
              "\n",
              "    .dataframe tbody tr th {\n",
              "        vertical-align: top;\n",
              "    }\n",
              "\n",
              "    .dataframe thead th {\n",
              "        text-align: right;\n",
              "    }\n",
              "</style>\n",
              "<table border=\"1\" class=\"dataframe\">\n",
              "  <thead>\n",
              "    <tr style=\"text-align: right;\">\n",
              "      <th></th>\n",
              "      <th>estado</th>\n",
              "      <th>cidade</th>\n",
              "      <th>populacao</th>\n",
              "      <th>pib</th>\n",
              "      <th>pib_percapita</th>\n",
              "    </tr>\n",
              "  </thead>\n",
              "  <tbody>\n",
              "    <tr>\n",
              "      <th>0</th>\n",
              "      <td>BAHIA</td>\n",
              "      <td>Tremedal</td>\n",
              "      <td>18433</td>\n",
              "      <td>5.788399e+04</td>\n",
              "      <td>3140.239990</td>\n",
              "    </tr>\n",
              "    <tr>\n",
              "      <th>1</th>\n",
              "      <td>RIO GRANDE DO SUL</td>\n",
              "      <td>Turucu</td>\n",
              "      <td>4000</td>\n",
              "      <td>4.572388e+04</td>\n",
              "      <td>11430.969727</td>\n",
              "    </tr>\n",
              "    <tr>\n",
              "      <th>2</th>\n",
              "      <td>ESPIRITO SANTO</td>\n",
              "      <td>Vitoria</td>\n",
              "      <td>320156</td>\n",
              "      <td>1.978263e+07</td>\n",
              "      <td>61790.589844</td>\n",
              "    </tr>\n",
              "    <tr>\n",
              "      <th>3</th>\n",
              "      <td>MINAS GERAIS</td>\n",
              "      <td>Jacutinga</td>\n",
              "      <td>21424</td>\n",
              "      <td>2.478160e+05</td>\n",
              "      <td>11567.209961</td>\n",
              "    </tr>\n",
              "    <tr>\n",
              "      <th>4</th>\n",
              "      <td>PIAUI</td>\n",
              "      <td>Nazaria</td>\n",
              "      <td>7895</td>\n",
              "      <td>2.095138e+04</td>\n",
              "      <td>2653.750000</td>\n",
              "    </tr>\n",
              "  </tbody>\n",
              "</table>\n",
              "</div>\n",
              "      <button class=\"colab-df-convert\" onclick=\"convertToInteractive('df-899143f8-8e0b-48bb-adbf-795698f3506a')\"\n",
              "              title=\"Convert this dataframe to an interactive table.\"\n",
              "              style=\"display:none;\">\n",
              "        \n",
              "  <svg xmlns=\"http://www.w3.org/2000/svg\" height=\"24px\"viewBox=\"0 0 24 24\"\n",
              "       width=\"24px\">\n",
              "    <path d=\"M0 0h24v24H0V0z\" fill=\"none\"/>\n",
              "    <path d=\"M18.56 5.44l.94 2.06.94-2.06 2.06-.94-2.06-.94-.94-2.06-.94 2.06-2.06.94zm-11 1L8.5 8.5l.94-2.06 2.06-.94-2.06-.94L8.5 2.5l-.94 2.06-2.06.94zm10 10l.94 2.06.94-2.06 2.06-.94-2.06-.94-.94-2.06-.94 2.06-2.06.94z\"/><path d=\"M17.41 7.96l-1.37-1.37c-.4-.4-.92-.59-1.43-.59-.52 0-1.04.2-1.43.59L10.3 9.45l-7.72 7.72c-.78.78-.78 2.05 0 2.83L4 21.41c.39.39.9.59 1.41.59.51 0 1.02-.2 1.41-.59l7.78-7.78 2.81-2.81c.8-.78.8-2.07 0-2.86zM5.41 20L4 18.59l7.72-7.72 1.47 1.35L5.41 20z\"/>\n",
              "  </svg>\n",
              "      </button>\n",
              "      \n",
              "  <style>\n",
              "    .colab-df-container {\n",
              "      display:flex;\n",
              "      flex-wrap:wrap;\n",
              "      gap: 12px;\n",
              "    }\n",
              "\n",
              "    .colab-df-convert {\n",
              "      background-color: #E8F0FE;\n",
              "      border: none;\n",
              "      border-radius: 50%;\n",
              "      cursor: pointer;\n",
              "      display: none;\n",
              "      fill: #1967D2;\n",
              "      height: 32px;\n",
              "      padding: 0 0 0 0;\n",
              "      width: 32px;\n",
              "    }\n",
              "\n",
              "    .colab-df-convert:hover {\n",
              "      background-color: #E2EBFA;\n",
              "      box-shadow: 0px 1px 2px rgba(60, 64, 67, 0.3), 0px 1px 3px 1px rgba(60, 64, 67, 0.15);\n",
              "      fill: #174EA6;\n",
              "    }\n",
              "\n",
              "    [theme=dark] .colab-df-convert {\n",
              "      background-color: #3B4455;\n",
              "      fill: #D2E3FC;\n",
              "    }\n",
              "\n",
              "    [theme=dark] .colab-df-convert:hover {\n",
              "      background-color: #434B5C;\n",
              "      box-shadow: 0px 1px 3px 1px rgba(0, 0, 0, 0.15);\n",
              "      filter: drop-shadow(0px 1px 2px rgba(0, 0, 0, 0.3));\n",
              "      fill: #FFFFFF;\n",
              "    }\n",
              "  </style>\n",
              "\n",
              "      <script>\n",
              "        const buttonEl =\n",
              "          document.querySelector('#df-899143f8-8e0b-48bb-adbf-795698f3506a button.colab-df-convert');\n",
              "        buttonEl.style.display =\n",
              "          google.colab.kernel.accessAllowed ? 'block' : 'none';\n",
              "\n",
              "        async function convertToInteractive(key) {\n",
              "          const element = document.querySelector('#df-899143f8-8e0b-48bb-adbf-795698f3506a');\n",
              "          const dataTable =\n",
              "            await google.colab.kernel.invokeFunction('convertToInteractive',\n",
              "                                                     [key], {});\n",
              "          if (!dataTable) return;\n",
              "\n",
              "          const docLinkHtml = 'Like what you see? Visit the ' +\n",
              "            '<a target=\"_blank\" href=https://colab.research.google.com/notebooks/data_table.ipynb>data table notebook</a>'\n",
              "            + ' to learn more about interactive tables.';\n",
              "          element.innerHTML = '';\n",
              "          dataTable['output_type'] = 'display_data';\n",
              "          await google.colab.output.renderOutput(dataTable, element);\n",
              "          const docLink = document.createElement('div');\n",
              "          docLink.innerHTML = docLinkHtml;\n",
              "          element.appendChild(docLink);\n",
              "        }\n",
              "      </script>\n",
              "    </div>\n",
              "  </div>\n",
              "  "
            ]
          },
          "metadata": {},
          "execution_count": 211
        }
      ]
    },
    {
      "cell_type": "code",
      "source": [
        "cidades_df.info()"
      ],
      "metadata": {
        "colab": {
          "base_uri": "https://localhost:8080/"
        },
        "id": "LjMXAw-Uec1x",
        "outputId": "3aceadeb-61cf-43d5-9352-283f106cb64f"
      },
      "execution_count": 26,
      "outputs": [
        {
          "output_type": "stream",
          "name": "stdout",
          "text": [
            "<class 'pandas.core.frame.DataFrame'>\n",
            "Int64Index: 5555 entries, 0 to 5565\n",
            "Data columns (total 5 columns):\n",
            " #   Column         Non-Null Count  Dtype  \n",
            "---  ------         --------------  -----  \n",
            " 0   estado         5555 non-null   object \n",
            " 1   cidade         5555 non-null   object \n",
            " 2   populacao      5555 non-null   int64  \n",
            " 3   pib            5555 non-null   float64\n",
            " 4   pib_percapita  5555 non-null   float64\n",
            "dtypes: float64(2), int64(1), object(2)\n",
            "memory usage: 389.4+ KB\n"
          ]
        }
      ]
    },
    {
      "cell_type": "code",
      "source": [
        "# Adicionei essa etapa de remoção de acentuação para facilitar a combinação dos dataframes no próximo exercício:\n",
        "\n",
        "cols = cidades_df.select_dtypes(include=[object]).columns\n",
        "cidades_df[cols] = cidades_df[cols].apply(lambda x: x.str.normalize('NFKD').str.encode('ascii', errors='ignore').str.decode('utf-8'))\n"
      ],
      "metadata": {
        "id": "LoDp8AV7nyo5"
      },
      "execution_count": 75,
      "outputs": []
    },
    {
      "cell_type": "code",
      "metadata": {
        "id": "GcAWBfwhYq96"
      },
      "source": [
        "# escrever o conteudo extraido no arquivo cidades-limpo.csv separados por ;\n",
        "\n",
        "NOME_ARQUIVO_DESTINO = 'cidades-limpo.csv'\n",
        "\n",
        "cidades_df.to_csv(NOME_ARQUIVO_DESTINO, sep=\";\", index=False)"
      ],
      "execution_count": 76,
      "outputs": []
    },
    {
      "cell_type": "markdown",
      "metadata": {
        "id": "EBzoHVD8b_c7"
      },
      "source": [
        "### **1.3. Brasil** "
      ]
    },
    {
      "cell_type": "markdown",
      "metadata": {
        "id": "Ft6l5bDwb_c7"
      },
      "source": [
        "Utilize o pacote Python `pandas` para combinar os dados do arquivo `estados-bruto.csv` com os dados do arquivo `cidades-bruto.csv` em um único dataframe. Escolha a coluna e o método de combinação de tal forma que **não haja perda de dados** no processo (não produzirá valores nulos `NaN`). Salve os dados do dataframe no arquivo `brasil.csv`"
      ]
    },
    {
      "cell_type": "code",
      "source": [
        "brasil_df = pd.merge(left=cidades_df, right=estados_df, on='estado', how='inner')"
      ],
      "metadata": {
        "id": "LCMsfQ3HlmiQ"
      },
      "execution_count": 78,
      "outputs": []
    },
    {
      "cell_type": "code",
      "source": [
        "# Confirmando se não existe valores nulos no DF\n",
        "brasil_df.info()"
      ],
      "metadata": {
        "colab": {
          "base_uri": "https://localhost:8080/"
        },
        "id": "DaDMOHOtkOmz",
        "outputId": "63e30001-890b-4e92-9714-68f2aaf172c9"
      },
      "execution_count": 79,
      "outputs": [
        {
          "output_type": "stream",
          "name": "stdout",
          "text": [
            "<class 'pandas.core.frame.DataFrame'>\n",
            "Int64Index: 5555 entries, 0 to 5554\n",
            "Data columns (total 7 columns):\n",
            " #   Column         Non-Null Count  Dtype  \n",
            "---  ------         --------------  -----  \n",
            " 0   estado         5555 non-null   object \n",
            " 1   cidade         5555 non-null   object \n",
            " 2   populacao      5555 non-null   int64  \n",
            " 3   pib            5555 non-null   float64\n",
            " 4   pib_percapita  5555 non-null   float64\n",
            " 5   sigla          5555 non-null   object \n",
            " 6   regiao         5555 non-null   object \n",
            "dtypes: float64(2), int64(1), object(4)\n",
            "memory usage: 347.2+ KB\n"
          ]
        }
      ]
    },
    {
      "cell_type": "markdown",
      "metadata": {
        "id": "waxn4B2UDHyl"
      },
      "source": [
        "---"
      ]
    },
    {
      "cell_type": "code",
      "source": [
        "NOME_ARQUIVO_DESTINO = 'brasil.csv'\n",
        "\n",
        "brasil_df.to_csv(NOME_ARQUIVO_DESTINO, sep=\";\", index=False)"
      ],
      "metadata": {
        "id": "g9F23FWskIOR"
      },
      "execution_count": 84,
      "outputs": []
    },
    {
      "cell_type": "markdown",
      "metadata": {
        "id": "finLQoyyGVmk"
      },
      "source": [
        "## 2\\. Data Analytics"
      ]
    },
    {
      "cell_type": "markdown",
      "metadata": {
        "id": "Ab0GW19Ed1ig"
      },
      "source": [
        "### **2.1. DataFrame** "
      ]
    },
    {
      "cell_type": "markdown",
      "metadata": {
        "id": "l8jJYjeBdijt"
      },
      "source": [
        "Utilize o pacote Python `pandas` para carregar o arquivo `brasil.csv` no dataframe `brasil_df`."
      ]
    },
    {
      "cell_type": "code",
      "metadata": {
        "id": "8kFQLlqud4QL"
      },
      "source": [
        "brasil_df = pd.read_csv('brasil.csv', sep=\";\")"
      ],
      "execution_count": 103,
      "outputs": []
    },
    {
      "cell_type": "code",
      "source": [
        "brasil_df"
      ],
      "metadata": {
        "colab": {
          "base_uri": "https://localhost:8080/",
          "height": 424
        },
        "id": "IL23_w5DqrPD",
        "outputId": "9c65aa0d-6123-4b91-bd34-c0eb85a271b2"
      },
      "execution_count": 104,
      "outputs": [
        {
          "output_type": "execute_result",
          "data": {
            "text/plain": [
              "                estado                 cidade  populacao           pib  \\\n",
              "0                BAHIA               Tremedal      18433  5.788399e+04   \n",
              "1                BAHIA               Maetinga       7884  2.355845e+04   \n",
              "2                BAHIA               Ibirapua       7893  7.499741e+04   \n",
              "3                BAHIA  Governador Mangabeira      20668  9.290382e+04   \n",
              "4                BAHIA                Ibitita      19410  6.236689e+04   \n",
              "...                ...                    ...        ...           ...   \n",
              "5550             AMAPA         Serra do Navio       3982  1.097953e+05   \n",
              "5551             AMAPA         Ferreira Gomes       5475  6.993773e+04   \n",
              "5552             AMAPA        Tartarugalzinho      13769  1.199880e+05   \n",
              "5553             AMAPA                 Macapa     366484  4.679694e+06   \n",
              "5554  DISTRITO FEDERAL               Brasilia    2606885  1.314873e+08   \n",
              "\n",
              "      pib_percapita sigla        regiao  \n",
              "0       3140.239990    BA      NORDESTE  \n",
              "1       2988.129883    BA      NORDESTE  \n",
              "2       9501.759766    BA      NORDESTE  \n",
              "3       4495.060059    BA      NORDESTE  \n",
              "4       3213.129883    BA      NORDESTE  \n",
              "...             ...   ...           ...  \n",
              "5550   27572.900391    AP         NORTE  \n",
              "5551   12774.009766    AP         NORTE  \n",
              "5552    8714.360352    AP         NORTE  \n",
              "5553   12769.160156    AP         NORTE  \n",
              "5554   50438.460938    DF  CENTRO-OESTE  \n",
              "\n",
              "[5555 rows x 7 columns]"
            ],
            "text/html": [
              "\n",
              "  <div id=\"df-a322f2f5-77bd-46ec-a529-21b25ffd3687\">\n",
              "    <div class=\"colab-df-container\">\n",
              "      <div>\n",
              "<style scoped>\n",
              "    .dataframe tbody tr th:only-of-type {\n",
              "        vertical-align: middle;\n",
              "    }\n",
              "\n",
              "    .dataframe tbody tr th {\n",
              "        vertical-align: top;\n",
              "    }\n",
              "\n",
              "    .dataframe thead th {\n",
              "        text-align: right;\n",
              "    }\n",
              "</style>\n",
              "<table border=\"1\" class=\"dataframe\">\n",
              "  <thead>\n",
              "    <tr style=\"text-align: right;\">\n",
              "      <th></th>\n",
              "      <th>estado</th>\n",
              "      <th>cidade</th>\n",
              "      <th>populacao</th>\n",
              "      <th>pib</th>\n",
              "      <th>pib_percapita</th>\n",
              "      <th>sigla</th>\n",
              "      <th>regiao</th>\n",
              "    </tr>\n",
              "  </thead>\n",
              "  <tbody>\n",
              "    <tr>\n",
              "      <th>0</th>\n",
              "      <td>BAHIA</td>\n",
              "      <td>Tremedal</td>\n",
              "      <td>18433</td>\n",
              "      <td>5.788399e+04</td>\n",
              "      <td>3140.239990</td>\n",
              "      <td>BA</td>\n",
              "      <td>NORDESTE</td>\n",
              "    </tr>\n",
              "    <tr>\n",
              "      <th>1</th>\n",
              "      <td>BAHIA</td>\n",
              "      <td>Maetinga</td>\n",
              "      <td>7884</td>\n",
              "      <td>2.355845e+04</td>\n",
              "      <td>2988.129883</td>\n",
              "      <td>BA</td>\n",
              "      <td>NORDESTE</td>\n",
              "    </tr>\n",
              "    <tr>\n",
              "      <th>2</th>\n",
              "      <td>BAHIA</td>\n",
              "      <td>Ibirapua</td>\n",
              "      <td>7893</td>\n",
              "      <td>7.499741e+04</td>\n",
              "      <td>9501.759766</td>\n",
              "      <td>BA</td>\n",
              "      <td>NORDESTE</td>\n",
              "    </tr>\n",
              "    <tr>\n",
              "      <th>3</th>\n",
              "      <td>BAHIA</td>\n",
              "      <td>Governador Mangabeira</td>\n",
              "      <td>20668</td>\n",
              "      <td>9.290382e+04</td>\n",
              "      <td>4495.060059</td>\n",
              "      <td>BA</td>\n",
              "      <td>NORDESTE</td>\n",
              "    </tr>\n",
              "    <tr>\n",
              "      <th>4</th>\n",
              "      <td>BAHIA</td>\n",
              "      <td>Ibitita</td>\n",
              "      <td>19410</td>\n",
              "      <td>6.236689e+04</td>\n",
              "      <td>3213.129883</td>\n",
              "      <td>BA</td>\n",
              "      <td>NORDESTE</td>\n",
              "    </tr>\n",
              "    <tr>\n",
              "      <th>...</th>\n",
              "      <td>...</td>\n",
              "      <td>...</td>\n",
              "      <td>...</td>\n",
              "      <td>...</td>\n",
              "      <td>...</td>\n",
              "      <td>...</td>\n",
              "      <td>...</td>\n",
              "    </tr>\n",
              "    <tr>\n",
              "      <th>5550</th>\n",
              "      <td>AMAPA</td>\n",
              "      <td>Serra do Navio</td>\n",
              "      <td>3982</td>\n",
              "      <td>1.097953e+05</td>\n",
              "      <td>27572.900391</td>\n",
              "      <td>AP</td>\n",
              "      <td>NORTE</td>\n",
              "    </tr>\n",
              "    <tr>\n",
              "      <th>5551</th>\n",
              "      <td>AMAPA</td>\n",
              "      <td>Ferreira Gomes</td>\n",
              "      <td>5475</td>\n",
              "      <td>6.993773e+04</td>\n",
              "      <td>12774.009766</td>\n",
              "      <td>AP</td>\n",
              "      <td>NORTE</td>\n",
              "    </tr>\n",
              "    <tr>\n",
              "      <th>5552</th>\n",
              "      <td>AMAPA</td>\n",
              "      <td>Tartarugalzinho</td>\n",
              "      <td>13769</td>\n",
              "      <td>1.199880e+05</td>\n",
              "      <td>8714.360352</td>\n",
              "      <td>AP</td>\n",
              "      <td>NORTE</td>\n",
              "    </tr>\n",
              "    <tr>\n",
              "      <th>5553</th>\n",
              "      <td>AMAPA</td>\n",
              "      <td>Macapa</td>\n",
              "      <td>366484</td>\n",
              "      <td>4.679694e+06</td>\n",
              "      <td>12769.160156</td>\n",
              "      <td>AP</td>\n",
              "      <td>NORTE</td>\n",
              "    </tr>\n",
              "    <tr>\n",
              "      <th>5554</th>\n",
              "      <td>DISTRITO FEDERAL</td>\n",
              "      <td>Brasilia</td>\n",
              "      <td>2606885</td>\n",
              "      <td>1.314873e+08</td>\n",
              "      <td>50438.460938</td>\n",
              "      <td>DF</td>\n",
              "      <td>CENTRO-OESTE</td>\n",
              "    </tr>\n",
              "  </tbody>\n",
              "</table>\n",
              "<p>5555 rows × 7 columns</p>\n",
              "</div>\n",
              "      <button class=\"colab-df-convert\" onclick=\"convertToInteractive('df-a322f2f5-77bd-46ec-a529-21b25ffd3687')\"\n",
              "              title=\"Convert this dataframe to an interactive table.\"\n",
              "              style=\"display:none;\">\n",
              "        \n",
              "  <svg xmlns=\"http://www.w3.org/2000/svg\" height=\"24px\"viewBox=\"0 0 24 24\"\n",
              "       width=\"24px\">\n",
              "    <path d=\"M0 0h24v24H0V0z\" fill=\"none\"/>\n",
              "    <path d=\"M18.56 5.44l.94 2.06.94-2.06 2.06-.94-2.06-.94-.94-2.06-.94 2.06-2.06.94zm-11 1L8.5 8.5l.94-2.06 2.06-.94-2.06-.94L8.5 2.5l-.94 2.06-2.06.94zm10 10l.94 2.06.94-2.06 2.06-.94-2.06-.94-.94-2.06-.94 2.06-2.06.94z\"/><path d=\"M17.41 7.96l-1.37-1.37c-.4-.4-.92-.59-1.43-.59-.52 0-1.04.2-1.43.59L10.3 9.45l-7.72 7.72c-.78.78-.78 2.05 0 2.83L4 21.41c.39.39.9.59 1.41.59.51 0 1.02-.2 1.41-.59l7.78-7.78 2.81-2.81c.8-.78.8-2.07 0-2.86zM5.41 20L4 18.59l7.72-7.72 1.47 1.35L5.41 20z\"/>\n",
              "  </svg>\n",
              "      </button>\n",
              "      \n",
              "  <style>\n",
              "    .colab-df-container {\n",
              "      display:flex;\n",
              "      flex-wrap:wrap;\n",
              "      gap: 12px;\n",
              "    }\n",
              "\n",
              "    .colab-df-convert {\n",
              "      background-color: #E8F0FE;\n",
              "      border: none;\n",
              "      border-radius: 50%;\n",
              "      cursor: pointer;\n",
              "      display: none;\n",
              "      fill: #1967D2;\n",
              "      height: 32px;\n",
              "      padding: 0 0 0 0;\n",
              "      width: 32px;\n",
              "    }\n",
              "\n",
              "    .colab-df-convert:hover {\n",
              "      background-color: #E2EBFA;\n",
              "      box-shadow: 0px 1px 2px rgba(60, 64, 67, 0.3), 0px 1px 3px 1px rgba(60, 64, 67, 0.15);\n",
              "      fill: #174EA6;\n",
              "    }\n",
              "\n",
              "    [theme=dark] .colab-df-convert {\n",
              "      background-color: #3B4455;\n",
              "      fill: #D2E3FC;\n",
              "    }\n",
              "\n",
              "    [theme=dark] .colab-df-convert:hover {\n",
              "      background-color: #434B5C;\n",
              "      box-shadow: 0px 1px 3px 1px rgba(0, 0, 0, 0.15);\n",
              "      filter: drop-shadow(0px 1px 2px rgba(0, 0, 0, 0.3));\n",
              "      fill: #FFFFFF;\n",
              "    }\n",
              "  </style>\n",
              "\n",
              "      <script>\n",
              "        const buttonEl =\n",
              "          document.querySelector('#df-a322f2f5-77bd-46ec-a529-21b25ffd3687 button.colab-df-convert');\n",
              "        buttonEl.style.display =\n",
              "          google.colab.kernel.accessAllowed ? 'block' : 'none';\n",
              "\n",
              "        async function convertToInteractive(key) {\n",
              "          const element = document.querySelector('#df-a322f2f5-77bd-46ec-a529-21b25ffd3687');\n",
              "          const dataTable =\n",
              "            await google.colab.kernel.invokeFunction('convertToInteractive',\n",
              "                                                     [key], {});\n",
              "          if (!dataTable) return;\n",
              "\n",
              "          const docLinkHtml = 'Like what you see? Visit the ' +\n",
              "            '<a target=\"_blank\" href=https://colab.research.google.com/notebooks/data_table.ipynb>data table notebook</a>'\n",
              "            + ' to learn more about interactive tables.';\n",
              "          element.innerHTML = '';\n",
              "          dataTable['output_type'] = 'display_data';\n",
              "          await google.colab.output.renderOutput(dataTable, element);\n",
              "          const docLink = document.createElement('div');\n",
              "          docLink.innerHTML = docLinkHtml;\n",
              "          element.appendChild(docLink);\n",
              "        }\n",
              "      </script>\n",
              "    </div>\n",
              "  </div>\n",
              "  "
            ]
          },
          "metadata": {},
          "execution_count": 104
        }
      ]
    },
    {
      "cell_type": "markdown",
      "metadata": {
        "id": "ZFWvK8FXHuex"
      },
      "source": [
        "### **2.2. Analise** "
      ]
    },
    {
      "cell_type": "markdown",
      "metadata": {
        "id": "EGyz0R1dd62D"
      },
      "source": [
        "Utilize o dataframe `brasil_df` para responder as seguintes perguntas de negócio:"
      ]
    },
    {
      "cell_type": "markdown",
      "metadata": {
        "id": "lGnYVp7IeFBD"
      },
      "source": [
        " - Quais são as 10 cidades mais populosas do Brasil?"
      ]
    },
    {
      "cell_type": "code",
      "metadata": {
        "id": "KQKcD-VkeQYf",
        "colab": {
          "base_uri": "https://localhost:8080/",
          "height": 332
        },
        "outputId": "2fbbd5dd-b617-4c54-8de1-1841b3a1d322"
      },
      "source": [
        "mais_populosas = brasil_df.sort_values(by=['populacao'], ascending=False,)\n",
        "mais_populosas[0:9]"
      ],
      "execution_count": 105,
      "outputs": [
        {
          "output_type": "execute_result",
          "data": {
            "text/plain": [
              "                estado          cidade  populacao          pib  pib_percapita  \\\n",
              "3271         SAO PAULO       Sao Paulo   11037593  389317152.0   35271.929688   \n",
              "4504    RIO DE JANEIRO  Rio de Janeiro    6186710  175739344.0   28405.949219   \n",
              "44               BAHIA        Salvador    2998056   32824228.0   10948.500000   \n",
              "5554  DISTRITO FEDERAL        Brasilia    2606885  131487264.0   50438.460938   \n",
              "4221             CEARA       Fortaleza    2505552   31789186.0   12687.500000   \n",
              "1735      MINAS GERAIS  Belo Horizonte    2452617   44595204.0   18182.699219   \n",
              "4849            PARANA        Curitiba    1851215   45762420.0   24720.210938   \n",
              "3720          AMAZONAS          Manaus    1738641   40486108.0   23286.060547   \n",
              "2435        PERNAMBUCO          Recife    1561659   24835340.0   15903.179688   \n",
              "\n",
              "     sigla        regiao  \n",
              "3271    SP       SUDESTE  \n",
              "4504    RJ       SUDESTE  \n",
              "44      BA      NORDESTE  \n",
              "5554    DF  CENTRO-OESTE  \n",
              "4221    CE      NORDESTE  \n",
              "1735    MG       SUDESTE  \n",
              "4849    PR           SUL  \n",
              "3720    AM         NORTE  \n",
              "2435    PE      NORDESTE  "
            ],
            "text/html": [
              "\n",
              "  <div id=\"df-af5b901d-7d08-448a-a0b5-16a27fbaffda\">\n",
              "    <div class=\"colab-df-container\">\n",
              "      <div>\n",
              "<style scoped>\n",
              "    .dataframe tbody tr th:only-of-type {\n",
              "        vertical-align: middle;\n",
              "    }\n",
              "\n",
              "    .dataframe tbody tr th {\n",
              "        vertical-align: top;\n",
              "    }\n",
              "\n",
              "    .dataframe thead th {\n",
              "        text-align: right;\n",
              "    }\n",
              "</style>\n",
              "<table border=\"1\" class=\"dataframe\">\n",
              "  <thead>\n",
              "    <tr style=\"text-align: right;\">\n",
              "      <th></th>\n",
              "      <th>estado</th>\n",
              "      <th>cidade</th>\n",
              "      <th>populacao</th>\n",
              "      <th>pib</th>\n",
              "      <th>pib_percapita</th>\n",
              "      <th>sigla</th>\n",
              "      <th>regiao</th>\n",
              "    </tr>\n",
              "  </thead>\n",
              "  <tbody>\n",
              "    <tr>\n",
              "      <th>3271</th>\n",
              "      <td>SAO PAULO</td>\n",
              "      <td>Sao Paulo</td>\n",
              "      <td>11037593</td>\n",
              "      <td>389317152.0</td>\n",
              "      <td>35271.929688</td>\n",
              "      <td>SP</td>\n",
              "      <td>SUDESTE</td>\n",
              "    </tr>\n",
              "    <tr>\n",
              "      <th>4504</th>\n",
              "      <td>RIO DE JANEIRO</td>\n",
              "      <td>Rio de Janeiro</td>\n",
              "      <td>6186710</td>\n",
              "      <td>175739344.0</td>\n",
              "      <td>28405.949219</td>\n",
              "      <td>RJ</td>\n",
              "      <td>SUDESTE</td>\n",
              "    </tr>\n",
              "    <tr>\n",
              "      <th>44</th>\n",
              "      <td>BAHIA</td>\n",
              "      <td>Salvador</td>\n",
              "      <td>2998056</td>\n",
              "      <td>32824228.0</td>\n",
              "      <td>10948.500000</td>\n",
              "      <td>BA</td>\n",
              "      <td>NORDESTE</td>\n",
              "    </tr>\n",
              "    <tr>\n",
              "      <th>5554</th>\n",
              "      <td>DISTRITO FEDERAL</td>\n",
              "      <td>Brasilia</td>\n",
              "      <td>2606885</td>\n",
              "      <td>131487264.0</td>\n",
              "      <td>50438.460938</td>\n",
              "      <td>DF</td>\n",
              "      <td>CENTRO-OESTE</td>\n",
              "    </tr>\n",
              "    <tr>\n",
              "      <th>4221</th>\n",
              "      <td>CEARA</td>\n",
              "      <td>Fortaleza</td>\n",
              "      <td>2505552</td>\n",
              "      <td>31789186.0</td>\n",
              "      <td>12687.500000</td>\n",
              "      <td>CE</td>\n",
              "      <td>NORDESTE</td>\n",
              "    </tr>\n",
              "    <tr>\n",
              "      <th>1735</th>\n",
              "      <td>MINAS GERAIS</td>\n",
              "      <td>Belo Horizonte</td>\n",
              "      <td>2452617</td>\n",
              "      <td>44595204.0</td>\n",
              "      <td>18182.699219</td>\n",
              "      <td>MG</td>\n",
              "      <td>SUDESTE</td>\n",
              "    </tr>\n",
              "    <tr>\n",
              "      <th>4849</th>\n",
              "      <td>PARANA</td>\n",
              "      <td>Curitiba</td>\n",
              "      <td>1851215</td>\n",
              "      <td>45762420.0</td>\n",
              "      <td>24720.210938</td>\n",
              "      <td>PR</td>\n",
              "      <td>SUL</td>\n",
              "    </tr>\n",
              "    <tr>\n",
              "      <th>3720</th>\n",
              "      <td>AMAZONAS</td>\n",
              "      <td>Manaus</td>\n",
              "      <td>1738641</td>\n",
              "      <td>40486108.0</td>\n",
              "      <td>23286.060547</td>\n",
              "      <td>AM</td>\n",
              "      <td>NORTE</td>\n",
              "    </tr>\n",
              "    <tr>\n",
              "      <th>2435</th>\n",
              "      <td>PERNAMBUCO</td>\n",
              "      <td>Recife</td>\n",
              "      <td>1561659</td>\n",
              "      <td>24835340.0</td>\n",
              "      <td>15903.179688</td>\n",
              "      <td>PE</td>\n",
              "      <td>NORDESTE</td>\n",
              "    </tr>\n",
              "  </tbody>\n",
              "</table>\n",
              "</div>\n",
              "      <button class=\"colab-df-convert\" onclick=\"convertToInteractive('df-af5b901d-7d08-448a-a0b5-16a27fbaffda')\"\n",
              "              title=\"Convert this dataframe to an interactive table.\"\n",
              "              style=\"display:none;\">\n",
              "        \n",
              "  <svg xmlns=\"http://www.w3.org/2000/svg\" height=\"24px\"viewBox=\"0 0 24 24\"\n",
              "       width=\"24px\">\n",
              "    <path d=\"M0 0h24v24H0V0z\" fill=\"none\"/>\n",
              "    <path d=\"M18.56 5.44l.94 2.06.94-2.06 2.06-.94-2.06-.94-.94-2.06-.94 2.06-2.06.94zm-11 1L8.5 8.5l.94-2.06 2.06-.94-2.06-.94L8.5 2.5l-.94 2.06-2.06.94zm10 10l.94 2.06.94-2.06 2.06-.94-2.06-.94-.94-2.06-.94 2.06-2.06.94z\"/><path d=\"M17.41 7.96l-1.37-1.37c-.4-.4-.92-.59-1.43-.59-.52 0-1.04.2-1.43.59L10.3 9.45l-7.72 7.72c-.78.78-.78 2.05 0 2.83L4 21.41c.39.39.9.59 1.41.59.51 0 1.02-.2 1.41-.59l7.78-7.78 2.81-2.81c.8-.78.8-2.07 0-2.86zM5.41 20L4 18.59l7.72-7.72 1.47 1.35L5.41 20z\"/>\n",
              "  </svg>\n",
              "      </button>\n",
              "      \n",
              "  <style>\n",
              "    .colab-df-container {\n",
              "      display:flex;\n",
              "      flex-wrap:wrap;\n",
              "      gap: 12px;\n",
              "    }\n",
              "\n",
              "    .colab-df-convert {\n",
              "      background-color: #E8F0FE;\n",
              "      border: none;\n",
              "      border-radius: 50%;\n",
              "      cursor: pointer;\n",
              "      display: none;\n",
              "      fill: #1967D2;\n",
              "      height: 32px;\n",
              "      padding: 0 0 0 0;\n",
              "      width: 32px;\n",
              "    }\n",
              "\n",
              "    .colab-df-convert:hover {\n",
              "      background-color: #E2EBFA;\n",
              "      box-shadow: 0px 1px 2px rgba(60, 64, 67, 0.3), 0px 1px 3px 1px rgba(60, 64, 67, 0.15);\n",
              "      fill: #174EA6;\n",
              "    }\n",
              "\n",
              "    [theme=dark] .colab-df-convert {\n",
              "      background-color: #3B4455;\n",
              "      fill: #D2E3FC;\n",
              "    }\n",
              "\n",
              "    [theme=dark] .colab-df-convert:hover {\n",
              "      background-color: #434B5C;\n",
              "      box-shadow: 0px 1px 3px 1px rgba(0, 0, 0, 0.15);\n",
              "      filter: drop-shadow(0px 1px 2px rgba(0, 0, 0, 0.3));\n",
              "      fill: #FFFFFF;\n",
              "    }\n",
              "  </style>\n",
              "\n",
              "      <script>\n",
              "        const buttonEl =\n",
              "          document.querySelector('#df-af5b901d-7d08-448a-a0b5-16a27fbaffda button.colab-df-convert');\n",
              "        buttonEl.style.display =\n",
              "          google.colab.kernel.accessAllowed ? 'block' : 'none';\n",
              "\n",
              "        async function convertToInteractive(key) {\n",
              "          const element = document.querySelector('#df-af5b901d-7d08-448a-a0b5-16a27fbaffda');\n",
              "          const dataTable =\n",
              "            await google.colab.kernel.invokeFunction('convertToInteractive',\n",
              "                                                     [key], {});\n",
              "          if (!dataTable) return;\n",
              "\n",
              "          const docLinkHtml = 'Like what you see? Visit the ' +\n",
              "            '<a target=\"_blank\" href=https://colab.research.google.com/notebooks/data_table.ipynb>data table notebook</a>'\n",
              "            + ' to learn more about interactive tables.';\n",
              "          element.innerHTML = '';\n",
              "          dataTable['output_type'] = 'display_data';\n",
              "          await google.colab.output.renderOutput(dataTable, element);\n",
              "          const docLink = document.createElement('div');\n",
              "          docLink.innerHTML = docLinkHtml;\n",
              "          element.appendChild(docLink);\n",
              "        }\n",
              "      </script>\n",
              "    </div>\n",
              "  </div>\n",
              "  "
            ]
          },
          "metadata": {},
          "execution_count": 105
        }
      ]
    },
    {
      "cell_type": "markdown",
      "metadata": {
        "id": "l93St6uleWTp"
      },
      "source": [
        " - Quais são as 5 cidades com a menor PIB per capita da região nordeste?"
      ]
    },
    {
      "cell_type": "code",
      "metadata": {
        "id": "DS5akh2zeWTq",
        "colab": {
          "base_uri": "https://localhost:8080/",
          "height": 206
        },
        "outputId": "ae68e814-5e59-459e-e024-dd4d35ad409b"
      },
      "source": [
        "menores_pib_nordeste = brasil_df.query(\"regiao == 'NORDESTE'\").sort_values(by=['pib_percapita'], ascending=True)\n",
        "menores_pib_nordeste.head(5)"
      ],
      "execution_count": 119,
      "outputs": [
        {
          "output_type": "execute_result",
          "data": {
            "text/plain": [
              "        estado              cidade  populacao           pib  pib_percapita  \\\n",
              "4464  MARANHAO  Sao Vicente Ferrer      20463  39492.960938    1929.969971   \n",
              "4359  MARANHAO             Cajapio      10337  22781.035156    2203.830078   \n",
              "1848     PIAUI       Dom Inocencio      10795  25457.230469    2358.239990   \n",
              "4483  MARANHAO            Timbiras      26909  63724.851562    2368.159912   \n",
              "4380  MARANHAO               Axixa      15203  36745.226562    2416.969971   \n",
              "\n",
              "     sigla    regiao  \n",
              "4464    MA  NORDESTE  \n",
              "4359    MA  NORDESTE  \n",
              "1848    PI  NORDESTE  \n",
              "4483    MA  NORDESTE  \n",
              "4380    MA  NORDESTE  "
            ],
            "text/html": [
              "\n",
              "  <div id=\"df-73f36123-d7f7-49d7-907b-fbe1a3c791a3\">\n",
              "    <div class=\"colab-df-container\">\n",
              "      <div>\n",
              "<style scoped>\n",
              "    .dataframe tbody tr th:only-of-type {\n",
              "        vertical-align: middle;\n",
              "    }\n",
              "\n",
              "    .dataframe tbody tr th {\n",
              "        vertical-align: top;\n",
              "    }\n",
              "\n",
              "    .dataframe thead th {\n",
              "        text-align: right;\n",
              "    }\n",
              "</style>\n",
              "<table border=\"1\" class=\"dataframe\">\n",
              "  <thead>\n",
              "    <tr style=\"text-align: right;\">\n",
              "      <th></th>\n",
              "      <th>estado</th>\n",
              "      <th>cidade</th>\n",
              "      <th>populacao</th>\n",
              "      <th>pib</th>\n",
              "      <th>pib_percapita</th>\n",
              "      <th>sigla</th>\n",
              "      <th>regiao</th>\n",
              "    </tr>\n",
              "  </thead>\n",
              "  <tbody>\n",
              "    <tr>\n",
              "      <th>4464</th>\n",
              "      <td>MARANHAO</td>\n",
              "      <td>Sao Vicente Ferrer</td>\n",
              "      <td>20463</td>\n",
              "      <td>39492.960938</td>\n",
              "      <td>1929.969971</td>\n",
              "      <td>MA</td>\n",
              "      <td>NORDESTE</td>\n",
              "    </tr>\n",
              "    <tr>\n",
              "      <th>4359</th>\n",
              "      <td>MARANHAO</td>\n",
              "      <td>Cajapio</td>\n",
              "      <td>10337</td>\n",
              "      <td>22781.035156</td>\n",
              "      <td>2203.830078</td>\n",
              "      <td>MA</td>\n",
              "      <td>NORDESTE</td>\n",
              "    </tr>\n",
              "    <tr>\n",
              "      <th>1848</th>\n",
              "      <td>PIAUI</td>\n",
              "      <td>Dom Inocencio</td>\n",
              "      <td>10795</td>\n",
              "      <td>25457.230469</td>\n",
              "      <td>2358.239990</td>\n",
              "      <td>PI</td>\n",
              "      <td>NORDESTE</td>\n",
              "    </tr>\n",
              "    <tr>\n",
              "      <th>4483</th>\n",
              "      <td>MARANHAO</td>\n",
              "      <td>Timbiras</td>\n",
              "      <td>26909</td>\n",
              "      <td>63724.851562</td>\n",
              "      <td>2368.159912</td>\n",
              "      <td>MA</td>\n",
              "      <td>NORDESTE</td>\n",
              "    </tr>\n",
              "    <tr>\n",
              "      <th>4380</th>\n",
              "      <td>MARANHAO</td>\n",
              "      <td>Axixa</td>\n",
              "      <td>15203</td>\n",
              "      <td>36745.226562</td>\n",
              "      <td>2416.969971</td>\n",
              "      <td>MA</td>\n",
              "      <td>NORDESTE</td>\n",
              "    </tr>\n",
              "  </tbody>\n",
              "</table>\n",
              "</div>\n",
              "      <button class=\"colab-df-convert\" onclick=\"convertToInteractive('df-73f36123-d7f7-49d7-907b-fbe1a3c791a3')\"\n",
              "              title=\"Convert this dataframe to an interactive table.\"\n",
              "              style=\"display:none;\">\n",
              "        \n",
              "  <svg xmlns=\"http://www.w3.org/2000/svg\" height=\"24px\"viewBox=\"0 0 24 24\"\n",
              "       width=\"24px\">\n",
              "    <path d=\"M0 0h24v24H0V0z\" fill=\"none\"/>\n",
              "    <path d=\"M18.56 5.44l.94 2.06.94-2.06 2.06-.94-2.06-.94-.94-2.06-.94 2.06-2.06.94zm-11 1L8.5 8.5l.94-2.06 2.06-.94-2.06-.94L8.5 2.5l-.94 2.06-2.06.94zm10 10l.94 2.06.94-2.06 2.06-.94-2.06-.94-.94-2.06-.94 2.06-2.06.94z\"/><path d=\"M17.41 7.96l-1.37-1.37c-.4-.4-.92-.59-1.43-.59-.52 0-1.04.2-1.43.59L10.3 9.45l-7.72 7.72c-.78.78-.78 2.05 0 2.83L4 21.41c.39.39.9.59 1.41.59.51 0 1.02-.2 1.41-.59l7.78-7.78 2.81-2.81c.8-.78.8-2.07 0-2.86zM5.41 20L4 18.59l7.72-7.72 1.47 1.35L5.41 20z\"/>\n",
              "  </svg>\n",
              "      </button>\n",
              "      \n",
              "  <style>\n",
              "    .colab-df-container {\n",
              "      display:flex;\n",
              "      flex-wrap:wrap;\n",
              "      gap: 12px;\n",
              "    }\n",
              "\n",
              "    .colab-df-convert {\n",
              "      background-color: #E8F0FE;\n",
              "      border: none;\n",
              "      border-radius: 50%;\n",
              "      cursor: pointer;\n",
              "      display: none;\n",
              "      fill: #1967D2;\n",
              "      height: 32px;\n",
              "      padding: 0 0 0 0;\n",
              "      width: 32px;\n",
              "    }\n",
              "\n",
              "    .colab-df-convert:hover {\n",
              "      background-color: #E2EBFA;\n",
              "      box-shadow: 0px 1px 2px rgba(60, 64, 67, 0.3), 0px 1px 3px 1px rgba(60, 64, 67, 0.15);\n",
              "      fill: #174EA6;\n",
              "    }\n",
              "\n",
              "    [theme=dark] .colab-df-convert {\n",
              "      background-color: #3B4455;\n",
              "      fill: #D2E3FC;\n",
              "    }\n",
              "\n",
              "    [theme=dark] .colab-df-convert:hover {\n",
              "      background-color: #434B5C;\n",
              "      box-shadow: 0px 1px 3px 1px rgba(0, 0, 0, 0.15);\n",
              "      filter: drop-shadow(0px 1px 2px rgba(0, 0, 0, 0.3));\n",
              "      fill: #FFFFFF;\n",
              "    }\n",
              "  </style>\n",
              "\n",
              "      <script>\n",
              "        const buttonEl =\n",
              "          document.querySelector('#df-73f36123-d7f7-49d7-907b-fbe1a3c791a3 button.colab-df-convert');\n",
              "        buttonEl.style.display =\n",
              "          google.colab.kernel.accessAllowed ? 'block' : 'none';\n",
              "\n",
              "        async function convertToInteractive(key) {\n",
              "          const element = document.querySelector('#df-73f36123-d7f7-49d7-907b-fbe1a3c791a3');\n",
              "          const dataTable =\n",
              "            await google.colab.kernel.invokeFunction('convertToInteractive',\n",
              "                                                     [key], {});\n",
              "          if (!dataTable) return;\n",
              "\n",
              "          const docLinkHtml = 'Like what you see? Visit the ' +\n",
              "            '<a target=\"_blank\" href=https://colab.research.google.com/notebooks/data_table.ipynb>data table notebook</a>'\n",
              "            + ' to learn more about interactive tables.';\n",
              "          element.innerHTML = '';\n",
              "          dataTable['output_type'] = 'display_data';\n",
              "          await google.colab.output.renderOutput(dataTable, element);\n",
              "          const docLink = document.createElement('div');\n",
              "          docLink.innerHTML = docLinkHtml;\n",
              "          element.appendChild(docLink);\n",
              "        }\n",
              "      </script>\n",
              "    </div>\n",
              "  </div>\n",
              "  "
            ]
          },
          "metadata": {},
          "execution_count": 119
        }
      ]
    },
    {
      "cell_type": "markdown",
      "metadata": {
        "id": "GqwffgUmedmb"
      },
      "source": [
        " - Quais são as 15 cidades com maior PIB do do estado de São Paulo?"
      ]
    },
    {
      "cell_type": "code",
      "metadata": {
        "id": "tFKEn1gLedmc",
        "colab": {
          "base_uri": "https://localhost:8080/",
          "height": 520
        },
        "outputId": "f3a5355c-6d45-4e58-ed84-6a0af3db465c"
      },
      "source": [
        "maiores_pib_sp = brasil_df.query('sigla == \"SP\"').sort_values(by=['pib'], ascending=False)\n",
        "maiores_pib_sp[['cidade', 'pib']].head(15)"
      ],
      "execution_count": 210,
      "outputs": [
        {
          "output_type": "execute_result",
          "data": {
            "text/plain": [
              "                     cidade          pib\n",
              "3271              Sao Paulo  389317152.0\n",
              "3223              Guarulhos   32473828.0\n",
              "3340               Campinas   31654720.0\n",
              "3106                 Osasco   31616452.0\n",
              "2810  Sao Bernardo do Campo   28935768.0\n",
              "3344                Barueri   26908070.0\n",
              "2768                 Santos   22546134.0\n",
              "2994    Sao Jose dos Campos   22018042.0\n",
              "3014                Jundiai   16585137.0\n",
              "2816            Santo Andre   14709603.0\n",
              "2754         Ribeirao Preto   14688064.0\n",
              "3152               Sorocaba   14182597.0\n",
              "3038                Diadema    9969819.0\n",
              "3334             Piracicaba    9601211.0\n",
              "2999     Sao Caetano do Sul    8920202.0"
            ],
            "text/html": [
              "\n",
              "  <div id=\"df-e17bea41-98b1-4fe7-acea-917522bced29\">\n",
              "    <div class=\"colab-df-container\">\n",
              "      <div>\n",
              "<style scoped>\n",
              "    .dataframe tbody tr th:only-of-type {\n",
              "        vertical-align: middle;\n",
              "    }\n",
              "\n",
              "    .dataframe tbody tr th {\n",
              "        vertical-align: top;\n",
              "    }\n",
              "\n",
              "    .dataframe thead th {\n",
              "        text-align: right;\n",
              "    }\n",
              "</style>\n",
              "<table border=\"1\" class=\"dataframe\">\n",
              "  <thead>\n",
              "    <tr style=\"text-align: right;\">\n",
              "      <th></th>\n",
              "      <th>cidade</th>\n",
              "      <th>pib</th>\n",
              "    </tr>\n",
              "  </thead>\n",
              "  <tbody>\n",
              "    <tr>\n",
              "      <th>3271</th>\n",
              "      <td>Sao Paulo</td>\n",
              "      <td>389317152.0</td>\n",
              "    </tr>\n",
              "    <tr>\n",
              "      <th>3223</th>\n",
              "      <td>Guarulhos</td>\n",
              "      <td>32473828.0</td>\n",
              "    </tr>\n",
              "    <tr>\n",
              "      <th>3340</th>\n",
              "      <td>Campinas</td>\n",
              "      <td>31654720.0</td>\n",
              "    </tr>\n",
              "    <tr>\n",
              "      <th>3106</th>\n",
              "      <td>Osasco</td>\n",
              "      <td>31616452.0</td>\n",
              "    </tr>\n",
              "    <tr>\n",
              "      <th>2810</th>\n",
              "      <td>Sao Bernardo do Campo</td>\n",
              "      <td>28935768.0</td>\n",
              "    </tr>\n",
              "    <tr>\n",
              "      <th>3344</th>\n",
              "      <td>Barueri</td>\n",
              "      <td>26908070.0</td>\n",
              "    </tr>\n",
              "    <tr>\n",
              "      <th>2768</th>\n",
              "      <td>Santos</td>\n",
              "      <td>22546134.0</td>\n",
              "    </tr>\n",
              "    <tr>\n",
              "      <th>2994</th>\n",
              "      <td>Sao Jose dos Campos</td>\n",
              "      <td>22018042.0</td>\n",
              "    </tr>\n",
              "    <tr>\n",
              "      <th>3014</th>\n",
              "      <td>Jundiai</td>\n",
              "      <td>16585137.0</td>\n",
              "    </tr>\n",
              "    <tr>\n",
              "      <th>2816</th>\n",
              "      <td>Santo Andre</td>\n",
              "      <td>14709603.0</td>\n",
              "    </tr>\n",
              "    <tr>\n",
              "      <th>2754</th>\n",
              "      <td>Ribeirao Preto</td>\n",
              "      <td>14688064.0</td>\n",
              "    </tr>\n",
              "    <tr>\n",
              "      <th>3152</th>\n",
              "      <td>Sorocaba</td>\n",
              "      <td>14182597.0</td>\n",
              "    </tr>\n",
              "    <tr>\n",
              "      <th>3038</th>\n",
              "      <td>Diadema</td>\n",
              "      <td>9969819.0</td>\n",
              "    </tr>\n",
              "    <tr>\n",
              "      <th>3334</th>\n",
              "      <td>Piracicaba</td>\n",
              "      <td>9601211.0</td>\n",
              "    </tr>\n",
              "    <tr>\n",
              "      <th>2999</th>\n",
              "      <td>Sao Caetano do Sul</td>\n",
              "      <td>8920202.0</td>\n",
              "    </tr>\n",
              "  </tbody>\n",
              "</table>\n",
              "</div>\n",
              "      <button class=\"colab-df-convert\" onclick=\"convertToInteractive('df-e17bea41-98b1-4fe7-acea-917522bced29')\"\n",
              "              title=\"Convert this dataframe to an interactive table.\"\n",
              "              style=\"display:none;\">\n",
              "        \n",
              "  <svg xmlns=\"http://www.w3.org/2000/svg\" height=\"24px\"viewBox=\"0 0 24 24\"\n",
              "       width=\"24px\">\n",
              "    <path d=\"M0 0h24v24H0V0z\" fill=\"none\"/>\n",
              "    <path d=\"M18.56 5.44l.94 2.06.94-2.06 2.06-.94-2.06-.94-.94-2.06-.94 2.06-2.06.94zm-11 1L8.5 8.5l.94-2.06 2.06-.94-2.06-.94L8.5 2.5l-.94 2.06-2.06.94zm10 10l.94 2.06.94-2.06 2.06-.94-2.06-.94-.94-2.06-.94 2.06-2.06.94z\"/><path d=\"M17.41 7.96l-1.37-1.37c-.4-.4-.92-.59-1.43-.59-.52 0-1.04.2-1.43.59L10.3 9.45l-7.72 7.72c-.78.78-.78 2.05 0 2.83L4 21.41c.39.39.9.59 1.41.59.51 0 1.02-.2 1.41-.59l7.78-7.78 2.81-2.81c.8-.78.8-2.07 0-2.86zM5.41 20L4 18.59l7.72-7.72 1.47 1.35L5.41 20z\"/>\n",
              "  </svg>\n",
              "      </button>\n",
              "      \n",
              "  <style>\n",
              "    .colab-df-container {\n",
              "      display:flex;\n",
              "      flex-wrap:wrap;\n",
              "      gap: 12px;\n",
              "    }\n",
              "\n",
              "    .colab-df-convert {\n",
              "      background-color: #E8F0FE;\n",
              "      border: none;\n",
              "      border-radius: 50%;\n",
              "      cursor: pointer;\n",
              "      display: none;\n",
              "      fill: #1967D2;\n",
              "      height: 32px;\n",
              "      padding: 0 0 0 0;\n",
              "      width: 32px;\n",
              "    }\n",
              "\n",
              "    .colab-df-convert:hover {\n",
              "      background-color: #E2EBFA;\n",
              "      box-shadow: 0px 1px 2px rgba(60, 64, 67, 0.3), 0px 1px 3px 1px rgba(60, 64, 67, 0.15);\n",
              "      fill: #174EA6;\n",
              "    }\n",
              "\n",
              "    [theme=dark] .colab-df-convert {\n",
              "      background-color: #3B4455;\n",
              "      fill: #D2E3FC;\n",
              "    }\n",
              "\n",
              "    [theme=dark] .colab-df-convert:hover {\n",
              "      background-color: #434B5C;\n",
              "      box-shadow: 0px 1px 3px 1px rgba(0, 0, 0, 0.15);\n",
              "      filter: drop-shadow(0px 1px 2px rgba(0, 0, 0, 0.3));\n",
              "      fill: #FFFFFF;\n",
              "    }\n",
              "  </style>\n",
              "\n",
              "      <script>\n",
              "        const buttonEl =\n",
              "          document.querySelector('#df-e17bea41-98b1-4fe7-acea-917522bced29 button.colab-df-convert');\n",
              "        buttonEl.style.display =\n",
              "          google.colab.kernel.accessAllowed ? 'block' : 'none';\n",
              "\n",
              "        async function convertToInteractive(key) {\n",
              "          const element = document.querySelector('#df-e17bea41-98b1-4fe7-acea-917522bced29');\n",
              "          const dataTable =\n",
              "            await google.colab.kernel.invokeFunction('convertToInteractive',\n",
              "                                                     [key], {});\n",
              "          if (!dataTable) return;\n",
              "\n",
              "          const docLinkHtml = 'Like what you see? Visit the ' +\n",
              "            '<a target=\"_blank\" href=https://colab.research.google.com/notebooks/data_table.ipynb>data table notebook</a>'\n",
              "            + ' to learn more about interactive tables.';\n",
              "          element.innerHTML = '';\n",
              "          dataTable['output_type'] = 'display_data';\n",
              "          await google.colab.output.renderOutput(dataTable, element);\n",
              "          const docLink = document.createElement('div');\n",
              "          docLink.innerHTML = docLinkHtml;\n",
              "          element.appendChild(docLink);\n",
              "        }\n",
              "      </script>\n",
              "    </div>\n",
              "  </div>\n",
              "  "
            ]
          },
          "metadata": {},
          "execution_count": 210
        }
      ]
    },
    {
      "cell_type": "markdown",
      "metadata": {
        "id": "Wg_la1wOewoB"
      },
      "source": [
        " - Qual é o PIB do estado de Santa Catarina?"
      ]
    },
    {
      "cell_type": "code",
      "source": [
        "brasil_df.query(\"sigla == 'SC'\")['pib'].agg(\"sum\")"
      ],
      "metadata": {
        "colab": {
          "base_uri": "https://localhost:8080/"
        },
        "id": "HY522_mSwUpi",
        "outputId": "ce8e3d07-cbe9-436d-e678-fed5e5e6b4e9"
      },
      "execution_count": 138,
      "outputs": [
        {
          "output_type": "execute_result",
          "data": {
            "text/plain": [
              "129806256.75195317"
            ]
          },
          "metadata": {},
          "execution_count": 138
        }
      ]
    },
    {
      "cell_type": "markdown",
      "metadata": {
        "id": "Yaw2gDukfApr"
      },
      "source": [
        " - Qual é o população da região sul?"
      ]
    },
    {
      "cell_type": "code",
      "metadata": {
        "id": "enEkNjFQfAps",
        "colab": {
          "base_uri": "https://localhost:8080/"
        },
        "outputId": "f928ea4d-9f3a-4687-a3f2-a5a05805577e"
      },
      "source": [
        "populacao_sul = brasil_df.query(\"regiao == 'SUL'\")[\"populacao\"].agg(\"sum\")\n",
        "populacao_sul"
      ],
      "execution_count": 137,
      "outputs": [
        {
          "output_type": "execute_result",
          "data": {
            "text/plain": [
              "27719118"
            ]
          },
          "metadata": {},
          "execution_count": 137
        }
      ]
    },
    {
      "cell_type": "markdown",
      "metadata": {
        "id": "9qOaKRS9fFu8"
      },
      "source": [
        " - Qual é o PIB per capito médio das cidades do Mato Grosso do Sul?"
      ]
    },
    {
      "cell_type": "code",
      "metadata": {
        "id": "gX8DVSfFfFu9",
        "colab": {
          "base_uri": "https://localhost:8080/"
        },
        "outputId": "982bf7e5-0bfb-42c0-d956-c6bed0443a5e"
      },
      "source": [
        "media_pib_percapita_MS = brasil_df.query(\"sigla == 'MS'\")[\"pib_percapita\"].agg(\"mean\")\n",
        "media_pib_percapita_MS\n"
      ],
      "execution_count": 145,
      "outputs": [
        {
          "output_type": "execute_result",
          "data": {
            "text/plain": [
              "14458.896859975644"
            ]
          },
          "metadata": {},
          "execution_count": 145
        }
      ]
    },
    {
      "cell_type": "markdown",
      "metadata": {
        "id": "lvf-VqaffS2D"
      },
      "source": [
        " - Qual é a população do Brasil?"
      ]
    },
    {
      "cell_type": "code",
      "metadata": {
        "id": "_nBsY6EcfS2E",
        "colab": {
          "base_uri": "https://localhost:8080/"
        },
        "outputId": "6b260d41-26b8-4159-95b0-88dec110a6e1"
      },
      "source": [
        "pop_brasil = brasil_df['populacao'].agg(\"sum\")\n",
        "pop_brasil"
      ],
      "execution_count": 147,
      "outputs": [
        {
          "output_type": "execute_result",
          "data": {
            "text/plain": [
              "191176146"
            ]
          },
          "metadata": {},
          "execution_count": 147
        }
      ]
    },
    {
      "cell_type": "markdown",
      "metadata": {
        "id": "hnTSARXpipkP"
      },
      "source": [
        "### **2.3. Visualização** "
      ]
    },
    {
      "cell_type": "markdown",
      "metadata": {
        "id": "7coMkY8xixFO"
      },
      "source": [
        "Utilize o dataframe `brasil_df` para gerar as seguintes visualizações."
      ]
    },
    {
      "cell_type": "markdown",
      "metadata": {
        "id": "SgvPvh4Vjctx"
      },
      "source": [
        " - Gere um gráfico de barras com as 10 cidades menos populosas do Brasil."
      ]
    },
    {
      "cell_type": "code",
      "metadata": {
        "id": "V8eM0uEUjcty"
      },
      "source": [
        "# cidades_menos_populosas = brasil_df.sort_values(by=['populacao'], ascending=True)\n",
        "# cidades_menos_populosas = cidades_menos_populosas[['cidade', 'estado', 'populacao']].head(10)\n",
        "cidades_menos_populosas = brasil_df[['cidade', 'estado', 'populacao']].sort_values(by=['populacao'], ascending=True).head(10)\n"
      ],
      "execution_count": 154,
      "outputs": []
    },
    {
      "cell_type": "code",
      "source": [
        "cidades_menos_populosas"
      ],
      "metadata": {
        "colab": {
          "base_uri": "https://localhost:8080/",
          "height": 363
        },
        "id": "iLRlI-k62M6T",
        "outputId": "f1c0807d-7b7a-4307-8053-676d270d830c"
      },
      "execution_count": 155,
      "outputs": [
        {
          "output_type": "execute_result",
          "data": {
            "text/plain": [
              "                  cidade        estado  populacao\n",
              "3224                Bora     SAO PAULO        837\n",
              "1485    Serra da Saudade  MINAS GERAIS        890\n",
              "2283          Anhanguera         GOIAS       1018\n",
              "4673          Araguainha   MATO GROSSO       1115\n",
              "3247       Nova Castilho     SAO PAULO       1122\n",
              "3580  Oliveira de Fatima     TOCANTINS       1129\n",
              "1939         Miguel Leao         PIAUI       1212\n",
              "995      Cedro do Abaete  MINAS GERAIS       1221\n",
              "3531              Parari       PARAIBA       1266\n",
              "3614    Chapada de Areia     TOCANTINS       1273"
            ],
            "text/html": [
              "\n",
              "  <div id=\"df-c2791c4f-cea6-4004-ab2b-1e09b7c49ac2\">\n",
              "    <div class=\"colab-df-container\">\n",
              "      <div>\n",
              "<style scoped>\n",
              "    .dataframe tbody tr th:only-of-type {\n",
              "        vertical-align: middle;\n",
              "    }\n",
              "\n",
              "    .dataframe tbody tr th {\n",
              "        vertical-align: top;\n",
              "    }\n",
              "\n",
              "    .dataframe thead th {\n",
              "        text-align: right;\n",
              "    }\n",
              "</style>\n",
              "<table border=\"1\" class=\"dataframe\">\n",
              "  <thead>\n",
              "    <tr style=\"text-align: right;\">\n",
              "      <th></th>\n",
              "      <th>cidade</th>\n",
              "      <th>estado</th>\n",
              "      <th>populacao</th>\n",
              "    </tr>\n",
              "  </thead>\n",
              "  <tbody>\n",
              "    <tr>\n",
              "      <th>3224</th>\n",
              "      <td>Bora</td>\n",
              "      <td>SAO PAULO</td>\n",
              "      <td>837</td>\n",
              "    </tr>\n",
              "    <tr>\n",
              "      <th>1485</th>\n",
              "      <td>Serra da Saudade</td>\n",
              "      <td>MINAS GERAIS</td>\n",
              "      <td>890</td>\n",
              "    </tr>\n",
              "    <tr>\n",
              "      <th>2283</th>\n",
              "      <td>Anhanguera</td>\n",
              "      <td>GOIAS</td>\n",
              "      <td>1018</td>\n",
              "    </tr>\n",
              "    <tr>\n",
              "      <th>4673</th>\n",
              "      <td>Araguainha</td>\n",
              "      <td>MATO GROSSO</td>\n",
              "      <td>1115</td>\n",
              "    </tr>\n",
              "    <tr>\n",
              "      <th>3247</th>\n",
              "      <td>Nova Castilho</td>\n",
              "      <td>SAO PAULO</td>\n",
              "      <td>1122</td>\n",
              "    </tr>\n",
              "    <tr>\n",
              "      <th>3580</th>\n",
              "      <td>Oliveira de Fatima</td>\n",
              "      <td>TOCANTINS</td>\n",
              "      <td>1129</td>\n",
              "    </tr>\n",
              "    <tr>\n",
              "      <th>1939</th>\n",
              "      <td>Miguel Leao</td>\n",
              "      <td>PIAUI</td>\n",
              "      <td>1212</td>\n",
              "    </tr>\n",
              "    <tr>\n",
              "      <th>995</th>\n",
              "      <td>Cedro do Abaete</td>\n",
              "      <td>MINAS GERAIS</td>\n",
              "      <td>1221</td>\n",
              "    </tr>\n",
              "    <tr>\n",
              "      <th>3531</th>\n",
              "      <td>Parari</td>\n",
              "      <td>PARAIBA</td>\n",
              "      <td>1266</td>\n",
              "    </tr>\n",
              "    <tr>\n",
              "      <th>3614</th>\n",
              "      <td>Chapada de Areia</td>\n",
              "      <td>TOCANTINS</td>\n",
              "      <td>1273</td>\n",
              "    </tr>\n",
              "  </tbody>\n",
              "</table>\n",
              "</div>\n",
              "      <button class=\"colab-df-convert\" onclick=\"convertToInteractive('df-c2791c4f-cea6-4004-ab2b-1e09b7c49ac2')\"\n",
              "              title=\"Convert this dataframe to an interactive table.\"\n",
              "              style=\"display:none;\">\n",
              "        \n",
              "  <svg xmlns=\"http://www.w3.org/2000/svg\" height=\"24px\"viewBox=\"0 0 24 24\"\n",
              "       width=\"24px\">\n",
              "    <path d=\"M0 0h24v24H0V0z\" fill=\"none\"/>\n",
              "    <path d=\"M18.56 5.44l.94 2.06.94-2.06 2.06-.94-2.06-.94-.94-2.06-.94 2.06-2.06.94zm-11 1L8.5 8.5l.94-2.06 2.06-.94-2.06-.94L8.5 2.5l-.94 2.06-2.06.94zm10 10l.94 2.06.94-2.06 2.06-.94-2.06-.94-.94-2.06-.94 2.06-2.06.94z\"/><path d=\"M17.41 7.96l-1.37-1.37c-.4-.4-.92-.59-1.43-.59-.52 0-1.04.2-1.43.59L10.3 9.45l-7.72 7.72c-.78.78-.78 2.05 0 2.83L4 21.41c.39.39.9.59 1.41.59.51 0 1.02-.2 1.41-.59l7.78-7.78 2.81-2.81c.8-.78.8-2.07 0-2.86zM5.41 20L4 18.59l7.72-7.72 1.47 1.35L5.41 20z\"/>\n",
              "  </svg>\n",
              "      </button>\n",
              "      \n",
              "  <style>\n",
              "    .colab-df-container {\n",
              "      display:flex;\n",
              "      flex-wrap:wrap;\n",
              "      gap: 12px;\n",
              "    }\n",
              "\n",
              "    .colab-df-convert {\n",
              "      background-color: #E8F0FE;\n",
              "      border: none;\n",
              "      border-radius: 50%;\n",
              "      cursor: pointer;\n",
              "      display: none;\n",
              "      fill: #1967D2;\n",
              "      height: 32px;\n",
              "      padding: 0 0 0 0;\n",
              "      width: 32px;\n",
              "    }\n",
              "\n",
              "    .colab-df-convert:hover {\n",
              "      background-color: #E2EBFA;\n",
              "      box-shadow: 0px 1px 2px rgba(60, 64, 67, 0.3), 0px 1px 3px 1px rgba(60, 64, 67, 0.15);\n",
              "      fill: #174EA6;\n",
              "    }\n",
              "\n",
              "    [theme=dark] .colab-df-convert {\n",
              "      background-color: #3B4455;\n",
              "      fill: #D2E3FC;\n",
              "    }\n",
              "\n",
              "    [theme=dark] .colab-df-convert:hover {\n",
              "      background-color: #434B5C;\n",
              "      box-shadow: 0px 1px 3px 1px rgba(0, 0, 0, 0.15);\n",
              "      filter: drop-shadow(0px 1px 2px rgba(0, 0, 0, 0.3));\n",
              "      fill: #FFFFFF;\n",
              "    }\n",
              "  </style>\n",
              "\n",
              "      <script>\n",
              "        const buttonEl =\n",
              "          document.querySelector('#df-c2791c4f-cea6-4004-ab2b-1e09b7c49ac2 button.colab-df-convert');\n",
              "        buttonEl.style.display =\n",
              "          google.colab.kernel.accessAllowed ? 'block' : 'none';\n",
              "\n",
              "        async function convertToInteractive(key) {\n",
              "          const element = document.querySelector('#df-c2791c4f-cea6-4004-ab2b-1e09b7c49ac2');\n",
              "          const dataTable =\n",
              "            await google.colab.kernel.invokeFunction('convertToInteractive',\n",
              "                                                     [key], {});\n",
              "          if (!dataTable) return;\n",
              "\n",
              "          const docLinkHtml = 'Like what you see? Visit the ' +\n",
              "            '<a target=\"_blank\" href=https://colab.research.google.com/notebooks/data_table.ipynb>data table notebook</a>'\n",
              "            + ' to learn more about interactive tables.';\n",
              "          element.innerHTML = '';\n",
              "          dataTable['output_type'] = 'display_data';\n",
              "          await google.colab.output.renderOutput(dataTable, element);\n",
              "          const docLink = document.createElement('div');\n",
              "          docLink.innerHTML = docLinkHtml;\n",
              "          element.appendChild(docLink);\n",
              "        }\n",
              "      </script>\n",
              "    </div>\n",
              "  </div>\n",
              "  "
            ]
          },
          "metadata": {},
          "execution_count": 155
        }
      ]
    },
    {
      "cell_type": "code",
      "source": [
        "cidades_menos_populosas.plot.bar(x=\"cidade\", \n",
        "                                 y=\"populacao\",\n",
        "                                 figsize=(12, 6), \n",
        "                                 ylabel=\"População\",\n",
        "                                 xlabel=\"Cidade\",\n",
        "                                 title=\"10 cidades menos populosas do Brasil (Censo 2010)\",\n",
        "                                 legend=True,\n",
        "                                 color=\"#ee5a5a\")\n",
        "\n",
        "\n",
        "\n"
      ],
      "metadata": {
        "colab": {
          "base_uri": "https://localhost:8080/",
          "height": 502
        },
        "id": "TyinlwVh24Fh",
        "outputId": "33dc0055-dda1-43cd-c0ed-0f2509e1c151"
      },
      "execution_count": 208,
      "outputs": [
        {
          "output_type": "execute_result",
          "data": {
            "text/plain": [
              "<matplotlib.axes._subplots.AxesSubplot at 0x7fca9755ebd0>"
            ]
          },
          "metadata": {},
          "execution_count": 208
        },
        {
          "output_type": "display_data",
          "data": {
            "text/plain": [
              "<Figure size 864x432 with 1 Axes>"
            ],
            "image/png": "[encoded data removed]"
          },
          "metadata": {
            "needs_background": "light"
          }
        }
      ]
    },
    {
      "cell_type": "markdown",
      "metadata": {
        "id": "gsa3SrTjjrGV"
      },
      "source": [
        " - Gere um gráfico de pizza com a proporção da população do Brasil por região."
      ]
    },
    {
      "cell_type": "code",
      "metadata": {
        "id": "1dvqIAEHjrGV",
        "colab": {
          "base_uri": "https://localhost:8080/",
          "height": 499
        },
        "outputId": "d9d203ba-7e08-4832-e541-e94112d6721e"
      },
      "source": [
        "populacao_por_regiao = brasil_df[[\"regiao\", \"populacao\"]].groupby(\"regiao\").agg(\"sum\")\n",
        "populacao_por_regiao.plot.pie(y='populacao',\n",
        "                              title=\"Proporção da População do Brasil por Região\",\n",
        "                              figsize=(16,8),\n",
        "                              autopct='%1.1f%%'\n",
        "                              )"
      ],
      "execution_count": 209,
      "outputs": [
        {
          "output_type": "execute_result",
          "data": {
            "text/plain": [
              "<matplotlib.axes._subplots.AxesSubplot at 0x7fca97d1aed0>"
            ]
          },
          "metadata": {},
          "execution_count": 209
        },
        {
          "output_type": "display_data",
          "data": {
            "text/plain": [
              "<Figure size 1152x576 with 1 Axes>"
            ],
            "image/png": "[encoded data removed]"
          },
          "metadata": {}
        }
      ]
    },
    {
      "cell_type": "code",
      "source": [
        ""
      ],
      "metadata": {
        "id": "kE9blVNQEIM0"
      },
      "execution_count": null,
      "outputs": []
    }
  ]
}